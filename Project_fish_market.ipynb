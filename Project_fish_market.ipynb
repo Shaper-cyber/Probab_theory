{
 "cells": [
  {
   "cell_type": "markdown",
   "id": "d73192e9",
   "metadata": {},
   "source": [
    "# Курсовой проект"
   ]
  },
  {
   "cell_type": "markdown",
   "id": "874c02d5",
   "metadata": {},
   "source": [
    "### Исследование веса рыбок в зависимости от вида и длин различных параметров\n",
    "#### Ссылка на данные: https://www.kaggle.com/datasets/aungpyaeap/fish-market\n",
    "##### Этот набор данных представляет собой запись 7 распространенных различных видов рыб, продаваемых на рыбном рынке. С помощью этого набора данных можно выполнить прогностическую модель с использованием удобных для машин данных и оценить вес рыбы."
   ]
  },
  {
   "cell_type": "code",
   "execution_count": 3,
   "id": "19857a82",
   "metadata": {},
   "outputs": [],
   "source": [
    "import numpy as np\n",
    "import pandas as pd\n",
    "import matplotlib.pyplot as plt"
   ]
  },
  {
   "cell_type": "markdown",
   "id": "082f6ff0",
   "metadata": {},
   "source": [
    "Species - Видовое название рыбы\n",
    "Weight  - вес рыбы в граммах г\n",
    "Length1 - вертикальная длина в см\n",
    "Length2 - длина диагонали в см\n",
    "Length3 - поперечная длина в см\n",
    "Height  - высота в см\n",
    "Width   - ширина по диагонали в см"
   ]
  },
  {
   "cell_type": "code",
   "execution_count": 6,
   "id": "05a4bea2",
   "metadata": {},
   "outputs": [
    {
     "name": "stdout",
     "output_type": "stream",
     "text": [
      "<class 'pandas.core.frame.DataFrame'>\n",
      "RangeIndex: 159 entries, 0 to 158\n",
      "Data columns (total 7 columns):\n",
      " #   Column   Non-Null Count  Dtype  \n",
      "---  ------   --------------  -----  \n",
      " 0   Species  159 non-null    object \n",
      " 1   Weight   159 non-null    float64\n",
      " 2   Length1  159 non-null    float64\n",
      " 3   Length2  159 non-null    float64\n",
      " 4   Length3  159 non-null    float64\n",
      " 5   Height   159 non-null    float64\n",
      " 6   Width    159 non-null    float64\n",
      "dtypes: float64(6), object(1)\n",
      "memory usage: 8.8+ KB\n"
     ]
    }
   ],
   "source": [
    "df = pd.read_csv(\"./Fish.csv\")\n",
    "df.info()"
   ]
  },
  {
   "cell_type": "code",
   "execution_count": null,
   "id": "10395471",
   "metadata": {},
   "outputs": [],
   "source": []
  }
 ],
 "metadata": {
  "kernelspec": {
   "display_name": "Python 3",
   "language": "python",
   "name": "python3"
  },
  "language_info": {
   "codemirror_mode": {
    "name": "ipython",
    "version": 3
   },
   "file_extension": ".py",
   "mimetype": "text/x-python",
   "name": "python",
   "nbconvert_exporter": "python",
   "pygments_lexer": "ipython3",
   "version": "3.8.8"
  }
 },
 "nbformat": 4,
 "nbformat_minor": 5
}
