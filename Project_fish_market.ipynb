{
 "cells": [
  {
   "cell_type": "markdown",
   "id": "d73192e9",
   "metadata": {},
   "source": [
    "# Курсовой проект"
   ]
  },
  {
   "cell_type": "markdown",
   "id": "874c02d5",
   "metadata": {},
   "source": [
    "### Исследование веса рыбок в зависимости от вида и длин различных параметров\n",
    "#### Ссылка на данные: https://www.kaggle.com/datasets/aungpyaeap/fish-market\n",
    "##### Этот набор данных представляет собой запись 7 распространенных различных видов рыб, продаваемых на рыбном рынке. С помощью этого набора данных можно выполнить прогностическую модель с использованием удобных для машин данных и оценить вес рыбы."
   ]
  },
  {
   "cell_type": "code",
   "execution_count": 1,
   "id": "19857a82",
   "metadata": {},
   "outputs": [],
   "source": [
    "import numpy as np\n",
    "import pandas as pd\n",
    "import matplotlib.pyplot as plt\n",
    "import seaborn as sns\n",
    "from pylab import rcParams"
   ]
  },
  {
   "cell_type": "code",
   "execution_count": 2,
   "id": "2949a1a0",
   "metadata": {},
   "outputs": [],
   "source": [
    "%matplotlib inline"
   ]
  },
  {
   "cell_type": "code",
   "execution_count": 3,
   "id": "25abe60b",
   "metadata": {},
   "outputs": [],
   "source": [
    "rcParams['figure.figsize'] = 5,6"
   ]
  },
  {
   "cell_type": "code",
   "execution_count": 4,
   "id": "59b048d0",
   "metadata": {},
   "outputs": [],
   "source": [
    "import warnings\n",
    "warnings.filterwarnings('ignore')"
   ]
  },
  {
   "cell_type": "markdown",
   "id": "082f6ff0",
   "metadata": {},
   "source": [
    "#### Species - Видовое название рыбы\n",
    "#### Weight  - вес рыбы (в граммах)\n",
    "#### Length1 - Длина от носа до начала хвоста (в см)\n",
    "#### Length2 - Длина от носа до выреза хвоста (в см)\n",
    "#### Length3 - Длина от носа до конца хвоста (в см)\n",
    "#### Height  - Максимальная высота в % от Length3\n",
    "#### Width   - Максимальная толщина в % от Length3"
   ]
  },
  {
   "cell_type": "code",
   "execution_count": 5,
   "id": "05a4bea2",
   "metadata": {},
   "outputs": [
    {
     "name": "stdout",
     "output_type": "stream",
     "text": [
      "<class 'pandas.core.frame.DataFrame'>\n",
      "RangeIndex: 159 entries, 0 to 158\n",
      "Data columns (total 7 columns):\n",
      " #   Column   Non-Null Count  Dtype  \n",
      "---  ------   --------------  -----  \n",
      " 0   Species  159 non-null    object \n",
      " 1   Weight   159 non-null    float64\n",
      " 2   Length1  159 non-null    float64\n",
      " 3   Length2  159 non-null    float64\n",
      " 4   Length3  159 non-null    float64\n",
      " 5   Height   159 non-null    float64\n",
      " 6   Width    159 non-null    float64\n",
      "dtypes: float64(6), object(1)\n",
      "memory usage: 8.8+ KB\n"
     ]
    }
   ],
   "source": [
    "df = pd.read_csv(\"./Fish.csv\")\n",
    "df.info()"
   ]
  },
  {
   "cell_type": "code",
   "execution_count": 6,
   "id": "d592a5df",
   "metadata": {
    "scrolled": false
   },
   "outputs": [
    {
     "data": {
      "text/html": [
       "<div>\n",
       "<style scoped>\n",
       "    .dataframe tbody tr th:only-of-type {\n",
       "        vertical-align: middle;\n",
       "    }\n",
       "\n",
       "    .dataframe tbody tr th {\n",
       "        vertical-align: top;\n",
       "    }\n",
       "\n",
       "    .dataframe thead th {\n",
       "        text-align: right;\n",
       "    }\n",
       "</style>\n",
       "<table border=\"1\" class=\"dataframe\">\n",
       "  <thead>\n",
       "    <tr style=\"text-align: right;\">\n",
       "      <th></th>\n",
       "      <th>Weight</th>\n",
       "      <th>Length1</th>\n",
       "      <th>Length2</th>\n",
       "      <th>Length3</th>\n",
       "      <th>Height</th>\n",
       "      <th>Width</th>\n",
       "    </tr>\n",
       "  </thead>\n",
       "  <tbody>\n",
       "    <tr>\n",
       "      <th>count</th>\n",
       "      <td>159.000000</td>\n",
       "      <td>159.000000</td>\n",
       "      <td>159.000000</td>\n",
       "      <td>159.000000</td>\n",
       "      <td>159.000000</td>\n",
       "      <td>159.000000</td>\n",
       "    </tr>\n",
       "    <tr>\n",
       "      <th>mean</th>\n",
       "      <td>398.326415</td>\n",
       "      <td>26.247170</td>\n",
       "      <td>28.415723</td>\n",
       "      <td>31.227044</td>\n",
       "      <td>8.970994</td>\n",
       "      <td>4.417486</td>\n",
       "    </tr>\n",
       "    <tr>\n",
       "      <th>std</th>\n",
       "      <td>357.978317</td>\n",
       "      <td>9.996441</td>\n",
       "      <td>10.716328</td>\n",
       "      <td>11.610246</td>\n",
       "      <td>4.286208</td>\n",
       "      <td>1.685804</td>\n",
       "    </tr>\n",
       "    <tr>\n",
       "      <th>min</th>\n",
       "      <td>0.000000</td>\n",
       "      <td>7.500000</td>\n",
       "      <td>8.400000</td>\n",
       "      <td>8.800000</td>\n",
       "      <td>1.728400</td>\n",
       "      <td>1.047600</td>\n",
       "    </tr>\n",
       "    <tr>\n",
       "      <th>25%</th>\n",
       "      <td>120.000000</td>\n",
       "      <td>19.050000</td>\n",
       "      <td>21.000000</td>\n",
       "      <td>23.150000</td>\n",
       "      <td>5.944800</td>\n",
       "      <td>3.385650</td>\n",
       "    </tr>\n",
       "    <tr>\n",
       "      <th>50%</th>\n",
       "      <td>273.000000</td>\n",
       "      <td>25.200000</td>\n",
       "      <td>27.300000</td>\n",
       "      <td>29.400000</td>\n",
       "      <td>7.786000</td>\n",
       "      <td>4.248500</td>\n",
       "    </tr>\n",
       "    <tr>\n",
       "      <th>75%</th>\n",
       "      <td>650.000000</td>\n",
       "      <td>32.700000</td>\n",
       "      <td>35.500000</td>\n",
       "      <td>39.650000</td>\n",
       "      <td>12.365900</td>\n",
       "      <td>5.584500</td>\n",
       "    </tr>\n",
       "    <tr>\n",
       "      <th>max</th>\n",
       "      <td>1650.000000</td>\n",
       "      <td>59.000000</td>\n",
       "      <td>63.400000</td>\n",
       "      <td>68.000000</td>\n",
       "      <td>18.957000</td>\n",
       "      <td>8.142000</td>\n",
       "    </tr>\n",
       "  </tbody>\n",
       "</table>\n",
       "</div>"
      ],
      "text/plain": [
       "            Weight     Length1     Length2     Length3      Height       Width\n",
       "count   159.000000  159.000000  159.000000  159.000000  159.000000  159.000000\n",
       "mean    398.326415   26.247170   28.415723   31.227044    8.970994    4.417486\n",
       "std     357.978317    9.996441   10.716328   11.610246    4.286208    1.685804\n",
       "min       0.000000    7.500000    8.400000    8.800000    1.728400    1.047600\n",
       "25%     120.000000   19.050000   21.000000   23.150000    5.944800    3.385650\n",
       "50%     273.000000   25.200000   27.300000   29.400000    7.786000    4.248500\n",
       "75%     650.000000   32.700000   35.500000   39.650000   12.365900    5.584500\n",
       "max    1650.000000   59.000000   63.400000   68.000000   18.957000    8.142000"
      ]
     },
     "execution_count": 6,
     "metadata": {},
     "output_type": "execute_result"
    }
   ],
   "source": [
    "df.describe()"
   ]
  },
  {
   "cell_type": "markdown",
   "id": "ef7ab8e7",
   "metadata": {},
   "source": [
    "### Есть значение веса 0 у вида Плотва(Roach), установим медианный вес"
   ]
  },
  {
   "cell_type": "code",
   "execution_count": 7,
   "id": "b6b05595",
   "metadata": {},
   "outputs": [
    {
     "data": {
      "text/plain": [
       "Weight     147.5000\n",
       "Length1     20.5000\n",
       "Length2     22.2500\n",
       "Length3     24.8500\n",
       "Height       6.5126\n",
       "Width        3.6027\n",
       "dtype: float64"
      ]
     },
     "execution_count": 7,
     "metadata": {},
     "output_type": "execute_result"
    }
   ],
   "source": [
    "median_weight = df[df.Species=='Roach'].median()\n",
    "median_weight"
   ]
  },
  {
   "cell_type": "code",
   "execution_count": 8,
   "id": "f30033c6",
   "metadata": {
    "scrolled": true
   },
   "outputs": [],
   "source": [
    "df.loc[df.Weight<1,'Weight'] = median_weight['Weight']"
   ]
  },
  {
   "cell_type": "markdown",
   "id": "f8834d5d",
   "metadata": {},
   "source": [
    "### Удалим выброс по весу"
   ]
  },
  {
   "cell_type": "code",
   "execution_count": 215,
   "id": "e086ce63",
   "metadata": {},
   "outputs": [
    {
     "data": {
      "text/plain": [
       "(156, 7)"
      ]
     },
     "execution_count": 215,
     "metadata": {},
     "output_type": "execute_result"
    }
   ],
   "source": [
    "df = df[df.Weight<1500]\n",
    "df.shapee"
   ]
  },
  {
   "cell_type": "markdown",
   "id": "392e13fb",
   "metadata": {},
   "source": [
    "#### Распределение веса рыбы с маленьким средним и высоким стандартным отклонением, это скорее всего из-за:\n",
    "       Разные виды рыб(есть маленькие - корюшка, есть большие - щука)\n",
    "     Проверим на нормальность распределение веса"
   ]
  },
  {
   "cell_type": "code",
   "execution_count": 216,
   "id": "890cfd35",
   "metadata": {
    "scrolled": true
   },
   "outputs": [
    {
     "data": {
      "image/png": "[encoded data removed]",
      "text/plain": [
       "<Figure size 360x432 with 1 Axes>"
      ]
     },
     "metadata": {
      "needs_background": "light"
     },
     "output_type": "display_data"
    }
   ],
   "source": [
    "plt.hist(df['Weight'], bins=10)\n",
    "plt.show()"
   ]
  },
  {
   "cell_type": "markdown",
   "id": "a6b53e07",
   "metadata": {},
   "source": [
    "#### По графику видно что распределение скорее всего не нормальное и средняя, медианна не совпадают, скорее всего мало данных"
   ]
  },
  {
   "cell_type": "code",
   "execution_count": 217,
   "id": "5dab8ee4",
   "metadata": {},
   "outputs": [
    {
     "data": {
      "text/plain": [
       "Perch        56\n",
       "Bream        35\n",
       "Roach        20\n",
       "Smelt        14\n",
       "Pike         14\n",
       "Parkki       11\n",
       "Whitefish     6\n",
       "Name: Species, dtype: int64"
      ]
     },
     "execution_count": 217,
     "metadata": {},
     "output_type": "execute_result"
    }
   ],
   "source": [
    "df['Species'].value_counts()"
   ]
  },
  {
   "cell_type": "markdown",
   "id": "aa42b13c",
   "metadata": {},
   "source": [
    "### Виды рыб:\n",
    "1 Окунь - Perch\n",
    "2 Лещ - Bream\n",
    "3 Плотва - Roach\n",
    "4 Щука - Pike\n",
    "5 Корюшка - Smelt\n",
    "6 Густера - Parkki\n",
    "7 Язь - Whitefish"
   ]
  },
  {
   "cell_type": "markdown",
   "id": "376fb791",
   "metadata": {},
   "source": [
    "Проведем повидовой анализ влияние каких параметров у разных видов на вес"
   ]
  },
  {
   "cell_type": "code",
   "execution_count": 218,
   "id": "76059676",
   "metadata": {
    "scrolled": false
   },
   "outputs": [
    {
     "data": {
      "text/html": [
       "<div>\n",
       "<style scoped>\n",
       "    .dataframe tbody tr th:only-of-type {\n",
       "        vertical-align: middle;\n",
       "    }\n",
       "\n",
       "    .dataframe tbody tr th {\n",
       "        vertical-align: top;\n",
       "    }\n",
       "\n",
       "    .dataframe thead th {\n",
       "        text-align: right;\n",
       "    }\n",
       "</style>\n",
       "<table border=\"1\" class=\"dataframe\">\n",
       "  <thead>\n",
       "    <tr style=\"text-align: right;\">\n",
       "      <th></th>\n",
       "      <th>Weight</th>\n",
       "      <th>Length1</th>\n",
       "      <th>Length2</th>\n",
       "      <th>Length3</th>\n",
       "      <th>Height</th>\n",
       "      <th>Width</th>\n",
       "    </tr>\n",
       "  </thead>\n",
       "  <tbody>\n",
       "    <tr>\n",
       "      <th>count</th>\n",
       "      <td>56.000000</td>\n",
       "      <td>56.000000</td>\n",
       "      <td>56.000000</td>\n",
       "      <td>56.000000</td>\n",
       "      <td>56.000000</td>\n",
       "      <td>56.000000</td>\n",
       "    </tr>\n",
       "    <tr>\n",
       "      <th>mean</th>\n",
       "      <td>382.239286</td>\n",
       "      <td>25.735714</td>\n",
       "      <td>27.892857</td>\n",
       "      <td>29.571429</td>\n",
       "      <td>7.861870</td>\n",
       "      <td>4.745723</td>\n",
       "    </tr>\n",
       "    <tr>\n",
       "      <th>std</th>\n",
       "      <td>347.617717</td>\n",
       "      <td>8.561572</td>\n",
       "      <td>9.021668</td>\n",
       "      <td>9.529509</td>\n",
       "      <td>2.878177</td>\n",
       "      <td>1.774626</td>\n",
       "    </tr>\n",
       "    <tr>\n",
       "      <th>min</th>\n",
       "      <td>5.900000</td>\n",
       "      <td>7.500000</td>\n",
       "      <td>8.400000</td>\n",
       "      <td>8.800000</td>\n",
       "      <td>2.112000</td>\n",
       "      <td>1.408000</td>\n",
       "    </tr>\n",
       "    <tr>\n",
       "      <th>25%</th>\n",
       "      <td>120.000000</td>\n",
       "      <td>19.825000</td>\n",
       "      <td>21.825000</td>\n",
       "      <td>23.325000</td>\n",
       "      <td>5.692500</td>\n",
       "      <td>3.525000</td>\n",
       "    </tr>\n",
       "    <tr>\n",
       "      <th>50%</th>\n",
       "      <td>207.500000</td>\n",
       "      <td>23.250000</td>\n",
       "      <td>25.300000</td>\n",
       "      <td>26.750000</td>\n",
       "      <td>6.921800</td>\n",
       "      <td>4.154900</td>\n",
       "    </tr>\n",
       "    <tr>\n",
       "      <th>75%</th>\n",
       "      <td>692.500000</td>\n",
       "      <td>34.125000</td>\n",
       "      <td>36.625000</td>\n",
       "      <td>39.075000</td>\n",
       "      <td>10.846500</td>\n",
       "      <td>6.448125</td>\n",
       "    </tr>\n",
       "    <tr>\n",
       "      <th>max</th>\n",
       "      <td>1100.000000</td>\n",
       "      <td>41.100000</td>\n",
       "      <td>44.000000</td>\n",
       "      <td>46.600000</td>\n",
       "      <td>12.800200</td>\n",
       "      <td>8.142000</td>\n",
       "    </tr>\n",
       "  </tbody>\n",
       "</table>\n",
       "</div>"
      ],
      "text/plain": [
       "            Weight    Length1    Length2    Length3     Height      Width\n",
       "count    56.000000  56.000000  56.000000  56.000000  56.000000  56.000000\n",
       "mean    382.239286  25.735714  27.892857  29.571429   7.861870   4.745723\n",
       "std     347.617717   8.561572   9.021668   9.529509   2.878177   1.774626\n",
       "min       5.900000   7.500000   8.400000   8.800000   2.112000   1.408000\n",
       "25%     120.000000  19.825000  21.825000  23.325000   5.692500   3.525000\n",
       "50%     207.500000  23.250000  25.300000  26.750000   6.921800   4.154900\n",
       "75%     692.500000  34.125000  36.625000  39.075000  10.846500   6.448125\n",
       "max    1100.000000  41.100000  44.000000  46.600000  12.800200   8.142000"
      ]
     },
     "execution_count": 218,
     "metadata": {},
     "output_type": "execute_result"
    }
   ],
   "source": [
    "df_perch = df.loc[df['Species'] == 'Perch', :]\n",
    "df_perch.describe()"
   ]
  },
  {
   "cell_type": "code",
   "execution_count": 219,
   "id": "5c3e063c",
   "metadata": {
    "scrolled": true
   },
   "outputs": [
    {
     "data": {
      "text/html": [
       "<div>\n",
       "<style scoped>\n",
       "    .dataframe tbody tr th:only-of-type {\n",
       "        vertical-align: middle;\n",
       "    }\n",
       "\n",
       "    .dataframe tbody tr th {\n",
       "        vertical-align: top;\n",
       "    }\n",
       "\n",
       "    .dataframe thead th {\n",
       "        text-align: right;\n",
       "    }\n",
       "</style>\n",
       "<table border=\"1\" class=\"dataframe\">\n",
       "  <thead>\n",
       "    <tr style=\"text-align: right;\">\n",
       "      <th></th>\n",
       "      <th>Weight</th>\n",
       "      <th>Length1</th>\n",
       "      <th>Length2</th>\n",
       "      <th>Length3</th>\n",
       "      <th>Height</th>\n",
       "      <th>Width</th>\n",
       "    </tr>\n",
       "  </thead>\n",
       "  <tbody>\n",
       "    <tr>\n",
       "      <th>count</th>\n",
       "      <td>35.000000</td>\n",
       "      <td>35.000000</td>\n",
       "      <td>35.000000</td>\n",
       "      <td>35.000000</td>\n",
       "      <td>35.000000</td>\n",
       "      <td>35.000000</td>\n",
       "    </tr>\n",
       "    <tr>\n",
       "      <th>mean</th>\n",
       "      <td>617.828571</td>\n",
       "      <td>30.305714</td>\n",
       "      <td>33.108571</td>\n",
       "      <td>38.354286</td>\n",
       "      <td>15.183211</td>\n",
       "      <td>5.427614</td>\n",
       "    </tr>\n",
       "    <tr>\n",
       "      <th>std</th>\n",
       "      <td>209.205709</td>\n",
       "      <td>3.593699</td>\n",
       "      <td>3.911925</td>\n",
       "      <td>4.157866</td>\n",
       "      <td>1.964707</td>\n",
       "      <td>0.721509</td>\n",
       "    </tr>\n",
       "    <tr>\n",
       "      <th>min</th>\n",
       "      <td>242.000000</td>\n",
       "      <td>23.200000</td>\n",
       "      <td>25.400000</td>\n",
       "      <td>30.000000</td>\n",
       "      <td>11.520000</td>\n",
       "      <td>4.020000</td>\n",
       "    </tr>\n",
       "    <tr>\n",
       "      <th>25%</th>\n",
       "      <td>462.500000</td>\n",
       "      <td>28.000000</td>\n",
       "      <td>30.350000</td>\n",
       "      <td>35.650000</td>\n",
       "      <td>13.958900</td>\n",
       "      <td>4.943400</td>\n",
       "    </tr>\n",
       "    <tr>\n",
       "      <th>50%</th>\n",
       "      <td>610.000000</td>\n",
       "      <td>30.400000</td>\n",
       "      <td>33.000000</td>\n",
       "      <td>38.500000</td>\n",
       "      <td>14.954400</td>\n",
       "      <td>5.280100</td>\n",
       "    </tr>\n",
       "    <tr>\n",
       "      <th>75%</th>\n",
       "      <td>717.000000</td>\n",
       "      <td>31.950000</td>\n",
       "      <td>35.000000</td>\n",
       "      <td>40.750000</td>\n",
       "      <td>16.360900</td>\n",
       "      <td>6.071600</td>\n",
       "    </tr>\n",
       "    <tr>\n",
       "      <th>max</th>\n",
       "      <td>1000.000000</td>\n",
       "      <td>38.000000</td>\n",
       "      <td>41.000000</td>\n",
       "      <td>46.500000</td>\n",
       "      <td>18.957000</td>\n",
       "      <td>6.749700</td>\n",
       "    </tr>\n",
       "  </tbody>\n",
       "</table>\n",
       "</div>"
      ],
      "text/plain": [
       "            Weight    Length1    Length2    Length3     Height      Width\n",
       "count    35.000000  35.000000  35.000000  35.000000  35.000000  35.000000\n",
       "mean    617.828571  30.305714  33.108571  38.354286  15.183211   5.427614\n",
       "std     209.205709   3.593699   3.911925   4.157866   1.964707   0.721509\n",
       "min     242.000000  23.200000  25.400000  30.000000  11.520000   4.020000\n",
       "25%     462.500000  28.000000  30.350000  35.650000  13.958900   4.943400\n",
       "50%     610.000000  30.400000  33.000000  38.500000  14.954400   5.280100\n",
       "75%     717.000000  31.950000  35.000000  40.750000  16.360900   6.071600\n",
       "max    1000.000000  38.000000  41.000000  46.500000  18.957000   6.749700"
      ]
     },
     "execution_count": 219,
     "metadata": {},
     "output_type": "execute_result"
    }
   ],
   "source": [
    "df_Bream = df.loc[df['Species'] == 'Bream', :]\n",
    "df_Bream.describe()"
   ]
  },
  {
   "cell_type": "code",
   "execution_count": 220,
   "id": "76525301",
   "metadata": {
    "scrolled": false
   },
   "outputs": [
    {
     "data": {
      "text/html": [
       "<div>\n",
       "<style scoped>\n",
       "    .dataframe tbody tr th:only-of-type {\n",
       "        vertical-align: middle;\n",
       "    }\n",
       "\n",
       "    .dataframe tbody tr th {\n",
       "        vertical-align: top;\n",
       "    }\n",
       "\n",
       "    .dataframe thead th {\n",
       "        text-align: right;\n",
       "    }\n",
       "</style>\n",
       "<table border=\"1\" class=\"dataframe\">\n",
       "  <thead>\n",
       "    <tr style=\"text-align: right;\">\n",
       "      <th></th>\n",
       "      <th>Weight</th>\n",
       "      <th>Length1</th>\n",
       "      <th>Length2</th>\n",
       "      <th>Length3</th>\n",
       "      <th>Height</th>\n",
       "      <th>Width</th>\n",
       "    </tr>\n",
       "  </thead>\n",
       "  <tbody>\n",
       "    <tr>\n",
       "      <th>count</th>\n",
       "      <td>20.000000</td>\n",
       "      <td>20.000000</td>\n",
       "      <td>20.000000</td>\n",
       "      <td>20.000000</td>\n",
       "      <td>20.000000</td>\n",
       "      <td>20.000000</td>\n",
       "    </tr>\n",
       "    <tr>\n",
       "      <th>mean</th>\n",
       "      <td>159.425000</td>\n",
       "      <td>20.645000</td>\n",
       "      <td>22.275000</td>\n",
       "      <td>24.970000</td>\n",
       "      <td>6.694795</td>\n",
       "      <td>3.657850</td>\n",
       "    </tr>\n",
       "    <tr>\n",
       "      <th>std</th>\n",
       "      <td>81.348709</td>\n",
       "      <td>3.459917</td>\n",
       "      <td>3.651946</td>\n",
       "      <td>4.031599</td>\n",
       "      <td>1.261192</td>\n",
       "      <td>0.690371</td>\n",
       "    </tr>\n",
       "    <tr>\n",
       "      <th>min</th>\n",
       "      <td>40.000000</td>\n",
       "      <td>12.900000</td>\n",
       "      <td>14.100000</td>\n",
       "      <td>16.200000</td>\n",
       "      <td>4.147200</td>\n",
       "      <td>2.268000</td>\n",
       "    </tr>\n",
       "    <tr>\n",
       "      <th>25%</th>\n",
       "      <td>117.500000</td>\n",
       "      <td>18.900000</td>\n",
       "      <td>20.375000</td>\n",
       "      <td>22.650000</td>\n",
       "      <td>6.037075</td>\n",
       "      <td>3.317325</td>\n",
       "    </tr>\n",
       "    <tr>\n",
       "      <th>50%</th>\n",
       "      <td>148.750000</td>\n",
       "      <td>20.500000</td>\n",
       "      <td>22.250000</td>\n",
       "      <td>24.850000</td>\n",
       "      <td>6.512600</td>\n",
       "      <td>3.602700</td>\n",
       "    </tr>\n",
       "    <tr>\n",
       "      <th>75%</th>\n",
       "      <td>171.750000</td>\n",
       "      <td>22.025000</td>\n",
       "      <td>23.625000</td>\n",
       "      <td>26.900000</td>\n",
       "      <td>7.164150</td>\n",
       "      <td>3.852900</td>\n",
       "    </tr>\n",
       "    <tr>\n",
       "      <th>max</th>\n",
       "      <td>390.000000</td>\n",
       "      <td>29.500000</td>\n",
       "      <td>31.700000</td>\n",
       "      <td>35.000000</td>\n",
       "      <td>9.485000</td>\n",
       "      <td>5.355000</td>\n",
       "    </tr>\n",
       "  </tbody>\n",
       "</table>\n",
       "</div>"
      ],
      "text/plain": [
       "           Weight    Length1    Length2    Length3     Height      Width\n",
       "count   20.000000  20.000000  20.000000  20.000000  20.000000  20.000000\n",
       "mean   159.425000  20.645000  22.275000  24.970000   6.694795   3.657850\n",
       "std     81.348709   3.459917   3.651946   4.031599   1.261192   0.690371\n",
       "min     40.000000  12.900000  14.100000  16.200000   4.147200   2.268000\n",
       "25%    117.500000  18.900000  20.375000  22.650000   6.037075   3.317325\n",
       "50%    148.750000  20.500000  22.250000  24.850000   6.512600   3.602700\n",
       "75%    171.750000  22.025000  23.625000  26.900000   7.164150   3.852900\n",
       "max    390.000000  29.500000  31.700000  35.000000   9.485000   5.355000"
      ]
     },
     "execution_count": 220,
     "metadata": {},
     "output_type": "execute_result"
    }
   ],
   "source": [
    "df_Roach = df.loc[df['Species'] == 'Roach', :]\n",
    "df_Roach.describe()"
   ]
  },
  {
   "cell_type": "code",
   "execution_count": 221,
   "id": "ed42ee06",
   "metadata": {
    "scrolled": false
   },
   "outputs": [
    {
     "data": {
      "text/html": [
       "<div>\n",
       "<style scoped>\n",
       "    .dataframe tbody tr th:only-of-type {\n",
       "        vertical-align: middle;\n",
       "    }\n",
       "\n",
       "    .dataframe tbody tr th {\n",
       "        vertical-align: top;\n",
       "    }\n",
       "\n",
       "    .dataframe thead th {\n",
       "        text-align: right;\n",
       "    }\n",
       "</style>\n",
       "<table border=\"1\" class=\"dataframe\">\n",
       "  <thead>\n",
       "    <tr style=\"text-align: right;\">\n",
       "      <th></th>\n",
       "      <th>Weight</th>\n",
       "      <th>Length1</th>\n",
       "      <th>Length2</th>\n",
       "      <th>Length3</th>\n",
       "      <th>Height</th>\n",
       "      <th>Width</th>\n",
       "    </tr>\n",
       "  </thead>\n",
       "  <tbody>\n",
       "    <tr>\n",
       "      <th>count</th>\n",
       "      <td>14.000000</td>\n",
       "      <td>14.000000</td>\n",
       "      <td>14.000000</td>\n",
       "      <td>14.000000</td>\n",
       "      <td>14.000000</td>\n",
       "      <td>14.000000</td>\n",
       "    </tr>\n",
       "    <tr>\n",
       "      <th>mean</th>\n",
       "      <td>529.857143</td>\n",
       "      <td>39.364286</td>\n",
       "      <td>42.128571</td>\n",
       "      <td>45.157143</td>\n",
       "      <td>7.223007</td>\n",
       "      <td>4.764321</td>\n",
       "    </tr>\n",
       "    <tr>\n",
       "      <th>std</th>\n",
       "      <td>287.224077</td>\n",
       "      <td>6.385031</td>\n",
       "      <td>6.848855</td>\n",
       "      <td>7.003484</td>\n",
       "      <td>1.365166</td>\n",
       "      <td>0.935816</td>\n",
       "    </tr>\n",
       "    <tr>\n",
       "      <th>min</th>\n",
       "      <td>200.000000</td>\n",
       "      <td>30.000000</td>\n",
       "      <td>32.300000</td>\n",
       "      <td>34.800000</td>\n",
       "      <td>5.568000</td>\n",
       "      <td>3.375600</td>\n",
       "    </tr>\n",
       "    <tr>\n",
       "      <th>25%</th>\n",
       "      <td>311.250000</td>\n",
       "      <td>34.975000</td>\n",
       "      <td>37.475000</td>\n",
       "      <td>39.975000</td>\n",
       "      <td>6.315300</td>\n",
       "      <td>4.199125</td>\n",
       "    </tr>\n",
       "    <tr>\n",
       "      <th>50%</th>\n",
       "      <td>478.000000</td>\n",
       "      <td>40.000000</td>\n",
       "      <td>42.500000</td>\n",
       "      <td>45.500000</td>\n",
       "      <td>7.120000</td>\n",
       "      <td>4.517750</td>\n",
       "    </tr>\n",
       "    <tr>\n",
       "      <th>75%</th>\n",
       "      <td>560.250000</td>\n",
       "      <td>42.900000</td>\n",
       "      <td>45.750000</td>\n",
       "      <td>48.525000</td>\n",
       "      <td>7.759500</td>\n",
       "      <td>5.071200</td>\n",
       "    </tr>\n",
       "    <tr>\n",
       "      <th>max</th>\n",
       "      <td>1250.000000</td>\n",
       "      <td>52.000000</td>\n",
       "      <td>56.000000</td>\n",
       "      <td>59.700000</td>\n",
       "      <td>10.686300</td>\n",
       "      <td>6.984900</td>\n",
       "    </tr>\n",
       "  </tbody>\n",
       "</table>\n",
       "</div>"
      ],
      "text/plain": [
       "            Weight    Length1    Length2    Length3     Height      Width\n",
       "count    14.000000  14.000000  14.000000  14.000000  14.000000  14.000000\n",
       "mean    529.857143  39.364286  42.128571  45.157143   7.223007   4.764321\n",
       "std     287.224077   6.385031   6.848855   7.003484   1.365166   0.935816\n",
       "min     200.000000  30.000000  32.300000  34.800000   5.568000   3.375600\n",
       "25%     311.250000  34.975000  37.475000  39.975000   6.315300   4.199125\n",
       "50%     478.000000  40.000000  42.500000  45.500000   7.120000   4.517750\n",
       "75%     560.250000  42.900000  45.750000  48.525000   7.759500   5.071200\n",
       "max    1250.000000  52.000000  56.000000  59.700000  10.686300   6.984900"
      ]
     },
     "execution_count": 221,
     "metadata": {},
     "output_type": "execute_result"
    }
   ],
   "source": [
    "df_Pike = df.loc[df['Species'] == 'Pike', :]\n",
    "df_Pike.describe()"
   ]
  },
  {
   "cell_type": "code",
   "execution_count": 222,
   "id": "2992f2f9",
   "metadata": {
    "scrolled": false
   },
   "outputs": [
    {
     "data": {
      "text/html": [
       "<div>\n",
       "<style scoped>\n",
       "    .dataframe tbody tr th:only-of-type {\n",
       "        vertical-align: middle;\n",
       "    }\n",
       "\n",
       "    .dataframe tbody tr th {\n",
       "        vertical-align: top;\n",
       "    }\n",
       "\n",
       "    .dataframe thead th {\n",
       "        text-align: right;\n",
       "    }\n",
       "</style>\n",
       "<table border=\"1\" class=\"dataframe\">\n",
       "  <thead>\n",
       "    <tr style=\"text-align: right;\">\n",
       "      <th></th>\n",
       "      <th>Weight</th>\n",
       "      <th>Length1</th>\n",
       "      <th>Length2</th>\n",
       "      <th>Length3</th>\n",
       "      <th>Height</th>\n",
       "      <th>Width</th>\n",
       "    </tr>\n",
       "  </thead>\n",
       "  <tbody>\n",
       "    <tr>\n",
       "      <th>count</th>\n",
       "      <td>14.000000</td>\n",
       "      <td>14.000000</td>\n",
       "      <td>14.000000</td>\n",
       "      <td>14.000000</td>\n",
       "      <td>14.000000</td>\n",
       "      <td>14.000000</td>\n",
       "    </tr>\n",
       "    <tr>\n",
       "      <th>mean</th>\n",
       "      <td>11.178571</td>\n",
       "      <td>11.257143</td>\n",
       "      <td>11.921429</td>\n",
       "      <td>13.035714</td>\n",
       "      <td>2.209371</td>\n",
       "      <td>1.340093</td>\n",
       "    </tr>\n",
       "    <tr>\n",
       "      <th>std</th>\n",
       "      <td>4.131526</td>\n",
       "      <td>1.216372</td>\n",
       "      <td>1.432147</td>\n",
       "      <td>1.426457</td>\n",
       "      <td>0.351780</td>\n",
       "      <td>0.286611</td>\n",
       "    </tr>\n",
       "    <tr>\n",
       "      <th>min</th>\n",
       "      <td>6.700000</td>\n",
       "      <td>9.300000</td>\n",
       "      <td>9.800000</td>\n",
       "      <td>10.800000</td>\n",
       "      <td>1.728400</td>\n",
       "      <td>1.047600</td>\n",
       "    </tr>\n",
       "    <tr>\n",
       "      <th>25%</th>\n",
       "      <td>8.950000</td>\n",
       "      <td>10.475000</td>\n",
       "      <td>11.050000</td>\n",
       "      <td>12.100000</td>\n",
       "      <td>2.004450</td>\n",
       "      <td>1.161475</td>\n",
       "    </tr>\n",
       "    <tr>\n",
       "      <th>50%</th>\n",
       "      <td>9.850000</td>\n",
       "      <td>11.300000</td>\n",
       "      <td>11.800000</td>\n",
       "      <td>13.100000</td>\n",
       "      <td>2.200200</td>\n",
       "      <td>1.273100</td>\n",
       "    </tr>\n",
       "    <tr>\n",
       "      <th>75%</th>\n",
       "      <td>12.200000</td>\n",
       "      <td>11.650000</td>\n",
       "      <td>12.350000</td>\n",
       "      <td>13.475000</td>\n",
       "      <td>2.261225</td>\n",
       "      <td>1.356300</td>\n",
       "    </tr>\n",
       "    <tr>\n",
       "      <th>max</th>\n",
       "      <td>19.900000</td>\n",
       "      <td>13.800000</td>\n",
       "      <td>15.000000</td>\n",
       "      <td>16.200000</td>\n",
       "      <td>2.932200</td>\n",
       "      <td>2.067200</td>\n",
       "    </tr>\n",
       "  </tbody>\n",
       "</table>\n",
       "</div>"
      ],
      "text/plain": [
       "          Weight    Length1    Length2    Length3     Height      Width\n",
       "count  14.000000  14.000000  14.000000  14.000000  14.000000  14.000000\n",
       "mean   11.178571  11.257143  11.921429  13.035714   2.209371   1.340093\n",
       "std     4.131526   1.216372   1.432147   1.426457   0.351780   0.286611\n",
       "min     6.700000   9.300000   9.800000  10.800000   1.728400   1.047600\n",
       "25%     8.950000  10.475000  11.050000  12.100000   2.004450   1.161475\n",
       "50%     9.850000  11.300000  11.800000  13.100000   2.200200   1.273100\n",
       "75%    12.200000  11.650000  12.350000  13.475000   2.261225   1.356300\n",
       "max    19.900000  13.800000  15.000000  16.200000   2.932200   2.067200"
      ]
     },
     "execution_count": 222,
     "metadata": {},
     "output_type": "execute_result"
    }
   ],
   "source": [
    "df_Smelt = df.loc[df['Species'] == 'Smelt', :]\n",
    "df_Smelt.describe()"
   ]
  },
  {
   "cell_type": "code",
   "execution_count": 223,
   "id": "8c7fc0e3",
   "metadata": {
    "scrolled": false
   },
   "outputs": [
    {
     "data": {
      "text/html": [
       "<div>\n",
       "<style scoped>\n",
       "    .dataframe tbody tr th:only-of-type {\n",
       "        vertical-align: middle;\n",
       "    }\n",
       "\n",
       "    .dataframe tbody tr th {\n",
       "        vertical-align: top;\n",
       "    }\n",
       "\n",
       "    .dataframe thead th {\n",
       "        text-align: right;\n",
       "    }\n",
       "</style>\n",
       "<table border=\"1\" class=\"dataframe\">\n",
       "  <thead>\n",
       "    <tr style=\"text-align: right;\">\n",
       "      <th></th>\n",
       "      <th>Weight</th>\n",
       "      <th>Length1</th>\n",
       "      <th>Length2</th>\n",
       "      <th>Length3</th>\n",
       "      <th>Height</th>\n",
       "      <th>Width</th>\n",
       "    </tr>\n",
       "  </thead>\n",
       "  <tbody>\n",
       "    <tr>\n",
       "      <th>count</th>\n",
       "      <td>11.000000</td>\n",
       "      <td>11.000000</td>\n",
       "      <td>11.000000</td>\n",
       "      <td>11.000000</td>\n",
       "      <td>11.000000</td>\n",
       "      <td>11.000000</td>\n",
       "    </tr>\n",
       "    <tr>\n",
       "      <th>mean</th>\n",
       "      <td>154.818182</td>\n",
       "      <td>18.727273</td>\n",
       "      <td>20.345455</td>\n",
       "      <td>22.790909</td>\n",
       "      <td>8.962427</td>\n",
       "      <td>3.220736</td>\n",
       "    </tr>\n",
       "    <tr>\n",
       "      <th>std</th>\n",
       "      <td>78.755086</td>\n",
       "      <td>3.284841</td>\n",
       "      <td>3.557348</td>\n",
       "      <td>3.959155</td>\n",
       "      <td>1.615650</td>\n",
       "      <td>0.643347</td>\n",
       "    </tr>\n",
       "    <tr>\n",
       "      <th>min</th>\n",
       "      <td>55.000000</td>\n",
       "      <td>13.500000</td>\n",
       "      <td>14.700000</td>\n",
       "      <td>16.500000</td>\n",
       "      <td>6.577200</td>\n",
       "      <td>2.314200</td>\n",
       "    </tr>\n",
       "    <tr>\n",
       "      <th>25%</th>\n",
       "      <td>105.000000</td>\n",
       "      <td>16.900000</td>\n",
       "      <td>18.350000</td>\n",
       "      <td>20.550000</td>\n",
       "      <td>7.898700</td>\n",
       "      <td>2.795550</td>\n",
       "    </tr>\n",
       "    <tr>\n",
       "      <th>50%</th>\n",
       "      <td>145.000000</td>\n",
       "      <td>19.000000</td>\n",
       "      <td>20.700000</td>\n",
       "      <td>23.200000</td>\n",
       "      <td>8.892800</td>\n",
       "      <td>3.292800</td>\n",
       "    </tr>\n",
       "    <tr>\n",
       "      <th>75%</th>\n",
       "      <td>185.000000</td>\n",
       "      <td>20.500000</td>\n",
       "      <td>22.250000</td>\n",
       "      <td>24.950000</td>\n",
       "      <td>10.041100</td>\n",
       "      <td>3.537000</td>\n",
       "    </tr>\n",
       "    <tr>\n",
       "      <th>max</th>\n",
       "      <td>300.000000</td>\n",
       "      <td>24.000000</td>\n",
       "      <td>26.000000</td>\n",
       "      <td>29.000000</td>\n",
       "      <td>11.368000</td>\n",
       "      <td>4.234000</td>\n",
       "    </tr>\n",
       "  </tbody>\n",
       "</table>\n",
       "</div>"
      ],
      "text/plain": [
       "           Weight    Length1    Length2    Length3     Height      Width\n",
       "count   11.000000  11.000000  11.000000  11.000000  11.000000  11.000000\n",
       "mean   154.818182  18.727273  20.345455  22.790909   8.962427   3.220736\n",
       "std     78.755086   3.284841   3.557348   3.959155   1.615650   0.643347\n",
       "min     55.000000  13.500000  14.700000  16.500000   6.577200   2.314200\n",
       "25%    105.000000  16.900000  18.350000  20.550000   7.898700   2.795550\n",
       "50%    145.000000  19.000000  20.700000  23.200000   8.892800   3.292800\n",
       "75%    185.000000  20.500000  22.250000  24.950000  10.041100   3.537000\n",
       "max    300.000000  24.000000  26.000000  29.000000  11.368000   4.234000"
      ]
     },
     "execution_count": 223,
     "metadata": {},
     "output_type": "execute_result"
    }
   ],
   "source": [
    "df_Parkki = df.loc[df['Species'] == 'Parkki', :]\n",
    "df_Parkki.describe()"
   ]
  },
  {
   "cell_type": "code",
   "execution_count": 224,
   "id": "a40787ef",
   "metadata": {
    "scrolled": true
   },
   "outputs": [
    {
     "data": {
      "text/html": [
       "<div>\n",
       "<style scoped>\n",
       "    .dataframe tbody tr th:only-of-type {\n",
       "        vertical-align: middle;\n",
       "    }\n",
       "\n",
       "    .dataframe tbody tr th {\n",
       "        vertical-align: top;\n",
       "    }\n",
       "\n",
       "    .dataframe thead th {\n",
       "        text-align: right;\n",
       "    }\n",
       "</style>\n",
       "<table border=\"1\" class=\"dataframe\">\n",
       "  <thead>\n",
       "    <tr style=\"text-align: right;\">\n",
       "      <th></th>\n",
       "      <th>Weight</th>\n",
       "      <th>Length1</th>\n",
       "      <th>Length2</th>\n",
       "      <th>Length3</th>\n",
       "      <th>Height</th>\n",
       "      <th>Width</th>\n",
       "    </tr>\n",
       "  </thead>\n",
       "  <tbody>\n",
       "    <tr>\n",
       "      <th>count</th>\n",
       "      <td>6.000000</td>\n",
       "      <td>6.000000</td>\n",
       "      <td>6.000000</td>\n",
       "      <td>6.000000</td>\n",
       "      <td>6.000000</td>\n",
       "      <td>6.000000</td>\n",
       "    </tr>\n",
       "    <tr>\n",
       "      <th>mean</th>\n",
       "      <td>531.000000</td>\n",
       "      <td>28.800000</td>\n",
       "      <td>31.316667</td>\n",
       "      <td>34.316667</td>\n",
       "      <td>10.027167</td>\n",
       "      <td>5.473050</td>\n",
       "    </tr>\n",
       "    <tr>\n",
       "      <th>std</th>\n",
       "      <td>309.602972</td>\n",
       "      <td>5.580681</td>\n",
       "      <td>5.723781</td>\n",
       "      <td>6.023759</td>\n",
       "      <td>1.830201</td>\n",
       "      <td>1.194258</td>\n",
       "    </tr>\n",
       "    <tr>\n",
       "      <th>min</th>\n",
       "      <td>270.000000</td>\n",
       "      <td>23.600000</td>\n",
       "      <td>26.000000</td>\n",
       "      <td>28.700000</td>\n",
       "      <td>8.145400</td>\n",
       "      <td>4.247600</td>\n",
       "    </tr>\n",
       "    <tr>\n",
       "      <th>25%</th>\n",
       "      <td>279.000000</td>\n",
       "      <td>24.475000</td>\n",
       "      <td>26.875000</td>\n",
       "      <td>29.675000</td>\n",
       "      <td>8.479800</td>\n",
       "      <td>4.356775</td>\n",
       "    </tr>\n",
       "    <tr>\n",
       "      <th>50%</th>\n",
       "      <td>423.000000</td>\n",
       "      <td>27.050000</td>\n",
       "      <td>29.500000</td>\n",
       "      <td>32.400000</td>\n",
       "      <td>9.761000</td>\n",
       "      <td>5.603300</td>\n",
       "    </tr>\n",
       "    <tr>\n",
       "      <th>75%</th>\n",
       "      <td>735.000000</td>\n",
       "      <td>32.400000</td>\n",
       "      <td>35.050000</td>\n",
       "      <td>38.200000</td>\n",
       "      <td>11.506900</td>\n",
       "      <td>6.552750</td>\n",
       "    </tr>\n",
       "    <tr>\n",
       "      <th>max</th>\n",
       "      <td>1000.000000</td>\n",
       "      <td>37.300000</td>\n",
       "      <td>40.000000</td>\n",
       "      <td>43.500000</td>\n",
       "      <td>12.354000</td>\n",
       "      <td>6.573600</td>\n",
       "    </tr>\n",
       "  </tbody>\n",
       "</table>\n",
       "</div>"
      ],
      "text/plain": [
       "            Weight    Length1    Length2    Length3     Height     Width\n",
       "count     6.000000   6.000000   6.000000   6.000000   6.000000  6.000000\n",
       "mean    531.000000  28.800000  31.316667  34.316667  10.027167  5.473050\n",
       "std     309.602972   5.580681   5.723781   6.023759   1.830201  1.194258\n",
       "min     270.000000  23.600000  26.000000  28.700000   8.145400  4.247600\n",
       "25%     279.000000  24.475000  26.875000  29.675000   8.479800  4.356775\n",
       "50%     423.000000  27.050000  29.500000  32.400000   9.761000  5.603300\n",
       "75%     735.000000  32.400000  35.050000  38.200000  11.506900  6.552750\n",
       "max    1000.000000  37.300000  40.000000  43.500000  12.354000  6.573600"
      ]
     },
     "execution_count": 224,
     "metadata": {},
     "output_type": "execute_result"
    }
   ],
   "source": [
    "df_Whitefish = df.loc[df['Species'] == 'Whitefish', :]\n",
    "df_Whitefish.describe()"
   ]
  },
  {
   "cell_type": "code",
   "execution_count": 225,
   "id": "a4d1d3c8",
   "metadata": {
    "scrolled": true
   },
   "outputs": [
    {
     "data": {
      "text/html": [
       "<div>\n",
       "<style scoped>\n",
       "    .dataframe tbody tr th:only-of-type {\n",
       "        vertical-align: middle;\n",
       "    }\n",
       "\n",
       "    .dataframe tbody tr th {\n",
       "        vertical-align: top;\n",
       "    }\n",
       "\n",
       "    .dataframe thead th {\n",
       "        text-align: right;\n",
       "    }\n",
       "</style>\n",
       "<table border=\"1\" class=\"dataframe\">\n",
       "  <thead>\n",
       "    <tr style=\"text-align: right;\">\n",
       "      <th></th>\n",
       "      <th>Weight</th>\n",
       "      <th>Length1</th>\n",
       "      <th>Length2</th>\n",
       "      <th>Length3</th>\n",
       "      <th>Height</th>\n",
       "      <th>Width</th>\n",
       "    </tr>\n",
       "  </thead>\n",
       "  <tbody>\n",
       "    <tr>\n",
       "      <th>Weight</th>\n",
       "      <td>1.000000</td>\n",
       "      <td>0.896094</td>\n",
       "      <td>0.900079</td>\n",
       "      <td>0.907686</td>\n",
       "      <td>0.802427</td>\n",
       "      <td>0.924213</td>\n",
       "    </tr>\n",
       "    <tr>\n",
       "      <th>Length1</th>\n",
       "      <td>0.896094</td>\n",
       "      <td>1.000000</td>\n",
       "      <td>0.999418</td>\n",
       "      <td>0.990612</td>\n",
       "      <td>0.676326</td>\n",
       "      <td>0.889166</td>\n",
       "    </tr>\n",
       "    <tr>\n",
       "      <th>Length2</th>\n",
       "      <td>0.900079</td>\n",
       "      <td>0.999418</td>\n",
       "      <td>1.000000</td>\n",
       "      <td>0.993049</td>\n",
       "      <td>0.691954</td>\n",
       "      <td>0.895584</td>\n",
       "    </tr>\n",
       "    <tr>\n",
       "      <th>Length3</th>\n",
       "      <td>0.907686</td>\n",
       "      <td>0.990612</td>\n",
       "      <td>0.993049</td>\n",
       "      <td>1.000000</td>\n",
       "      <td>0.756019</td>\n",
       "      <td>0.897053</td>\n",
       "    </tr>\n",
       "    <tr>\n",
       "      <th>Height</th>\n",
       "      <td>0.802427</td>\n",
       "      <td>0.676326</td>\n",
       "      <td>0.691954</td>\n",
       "      <td>0.756019</td>\n",
       "      <td>1.000000</td>\n",
       "      <td>0.800542</td>\n",
       "    </tr>\n",
       "    <tr>\n",
       "      <th>Width</th>\n",
       "      <td>0.924213</td>\n",
       "      <td>0.889166</td>\n",
       "      <td>0.895584</td>\n",
       "      <td>0.897053</td>\n",
       "      <td>0.800542</td>\n",
       "      <td>1.000000</td>\n",
       "    </tr>\n",
       "  </tbody>\n",
       "</table>\n",
       "</div>"
      ],
      "text/plain": [
       "           Weight   Length1   Length2   Length3    Height     Width\n",
       "Weight   1.000000  0.896094  0.900079  0.907686  0.802427  0.924213\n",
       "Length1  0.896094  1.000000  0.999418  0.990612  0.676326  0.889166\n",
       "Length2  0.900079  0.999418  1.000000  0.993049  0.691954  0.895584\n",
       "Length3  0.907686  0.990612  0.993049  1.000000  0.756019  0.897053\n",
       "Height   0.802427  0.676326  0.691954  0.756019  1.000000  0.800542\n",
       "Width    0.924213  0.889166  0.895584  0.897053  0.800542  1.000000"
      ]
     },
     "execution_count": 225,
     "metadata": {},
     "output_type": "execute_result"
    }
   ],
   "source": [
    "df.corr()"
   ]
  },
  {
   "cell_type": "markdown",
   "id": "c98a7c92",
   "metadata": {},
   "source": [
    "#### Общая корреляция на вес рыб показывает связь между весом:\n",
    "    Length1, Length2, Length3(это почти один и тот же параметр рыб)\n",
    "    Height, Width коррелируют намного меньше"
   ]
  },
  {
   "cell_type": "code",
   "execution_count": 226,
   "id": "f02d2862",
   "metadata": {
    "scrolled": true
   },
   "outputs": [
    {
     "data": {
      "text/plain": [
       "<AxesSubplot:xlabel='Length2', ylabel='Weight'>"
      ]
     },
     "execution_count": 226,
     "metadata": {},
     "output_type": "execute_result"
    },
    {
     "data": {
      "image/png": "[encoded data removed]",
      "text/plain": [
       "<Figure size 360x432 with 1 Axes>"
      ]
     },
     "metadata": {
      "needs_background": "light"
     },
     "output_type": "display_data"
    }
   ],
   "source": [
    "sns.scatterplot(x=df.Length2, y=df.Weight, hue=df.Species)"
   ]
  },
  {
   "cell_type": "markdown",
   "id": "5e9df6c1",
   "metadata": {},
   "source": [
    "#### На графике видно что выделяются 3 группы видов рыб у которых четко выражена линейная зависимость Length и Height\n",
    "    Посмотрим на каждый вид по отдельности и выделим корреляции"
   ]
  },
  {
   "cell_type": "code",
   "execution_count": 227,
   "id": "5692a6ea",
   "metadata": {
    "scrolled": false
   },
   "outputs": [
    {
     "data": {
      "text/html": [
       "<div>\n",
       "<style scoped>\n",
       "    .dataframe tbody tr th:only-of-type {\n",
       "        vertical-align: middle;\n",
       "    }\n",
       "\n",
       "    .dataframe tbody tr th {\n",
       "        vertical-align: top;\n",
       "    }\n",
       "\n",
       "    .dataframe thead th {\n",
       "        text-align: right;\n",
       "    }\n",
       "</style>\n",
       "<table border=\"1\" class=\"dataframe\">\n",
       "  <thead>\n",
       "    <tr style=\"text-align: right;\">\n",
       "      <th></th>\n",
       "      <th>Weight</th>\n",
       "      <th>Length1</th>\n",
       "      <th>Length2</th>\n",
       "      <th>Length3</th>\n",
       "      <th>Height</th>\n",
       "      <th>Width</th>\n",
       "    </tr>\n",
       "  </thead>\n",
       "  <tbody>\n",
       "    <tr>\n",
       "      <th>Weight</th>\n",
       "      <td>1.000000</td>\n",
       "      <td>0.958361</td>\n",
       "      <td>0.958656</td>\n",
       "      <td>0.959506</td>\n",
       "      <td>0.968441</td>\n",
       "      <td>0.963943</td>\n",
       "    </tr>\n",
       "    <tr>\n",
       "      <th>Length1</th>\n",
       "      <td>0.958361</td>\n",
       "      <td>1.000000</td>\n",
       "      <td>0.999713</td>\n",
       "      <td>0.999427</td>\n",
       "      <td>0.985420</td>\n",
       "      <td>0.974447</td>\n",
       "    </tr>\n",
       "    <tr>\n",
       "      <th>Length2</th>\n",
       "      <td>0.958656</td>\n",
       "      <td>0.999713</td>\n",
       "      <td>1.000000</td>\n",
       "      <td>0.999779</td>\n",
       "      <td>0.985584</td>\n",
       "      <td>0.974617</td>\n",
       "    </tr>\n",
       "    <tr>\n",
       "      <th>Length3</th>\n",
       "      <td>0.959506</td>\n",
       "      <td>0.999427</td>\n",
       "      <td>0.999779</td>\n",
       "      <td>1.000000</td>\n",
       "      <td>0.985909</td>\n",
       "      <td>0.975131</td>\n",
       "    </tr>\n",
       "    <tr>\n",
       "      <th>Height</th>\n",
       "      <td>0.968441</td>\n",
       "      <td>0.985420</td>\n",
       "      <td>0.985584</td>\n",
       "      <td>0.985909</td>\n",
       "      <td>1.000000</td>\n",
       "      <td>0.982943</td>\n",
       "    </tr>\n",
       "    <tr>\n",
       "      <th>Width</th>\n",
       "      <td>0.963943</td>\n",
       "      <td>0.974447</td>\n",
       "      <td>0.974617</td>\n",
       "      <td>0.975131</td>\n",
       "      <td>0.982943</td>\n",
       "      <td>1.000000</td>\n",
       "    </tr>\n",
       "  </tbody>\n",
       "</table>\n",
       "</div>"
      ],
      "text/plain": [
       "           Weight   Length1   Length2   Length3    Height     Width\n",
       "Weight   1.000000  0.958361  0.958656  0.959506  0.968441  0.963943\n",
       "Length1  0.958361  1.000000  0.999713  0.999427  0.985420  0.974447\n",
       "Length2  0.958656  0.999713  1.000000  0.999779  0.985584  0.974617\n",
       "Length3  0.959506  0.999427  0.999779  1.000000  0.985909  0.975131\n",
       "Height   0.968441  0.985420  0.985584  0.985909  1.000000  0.982943\n",
       "Width    0.963943  0.974447  0.974617  0.975131  0.982943  1.000000"
      ]
     },
     "execution_count": 227,
     "metadata": {},
     "output_type": "execute_result"
    }
   ],
   "source": [
    "df_perch.corr()"
   ]
  },
  {
   "cell_type": "code",
   "execution_count": 228,
   "id": "657dbbb8",
   "metadata": {},
   "outputs": [
    {
     "data": {
      "text/plain": [
       "<AxesSubplot:xlabel='Length3', ylabel='Weight'>"
      ]
     },
     "execution_count": 228,
     "metadata": {},
     "output_type": "execute_result"
    },
    {
     "data": {
      "image/png": "[encoded data removed]",
      "text/plain": [
       "<Figure size 360x432 with 1 Axes>"
      ]
     },
     "metadata": {
      "needs_background": "light"
     },
     "output_type": "display_data"
    }
   ],
   "source": [
    "sns.scatterplot(x=df_perch.Length3, y=df_perch.Weight)"
   ]
  },
  {
   "cell_type": "code",
   "execution_count": 229,
   "id": "c6f0fb51",
   "metadata": {},
   "outputs": [
    {
     "data": {
      "text/html": [
       "<div>\n",
       "<style scoped>\n",
       "    .dataframe tbody tr th:only-of-type {\n",
       "        vertical-align: middle;\n",
       "    }\n",
       "\n",
       "    .dataframe tbody tr th {\n",
       "        vertical-align: top;\n",
       "    }\n",
       "\n",
       "    .dataframe thead th {\n",
       "        text-align: right;\n",
       "    }\n",
       "</style>\n",
       "<table border=\"1\" class=\"dataframe\">\n",
       "  <thead>\n",
       "    <tr style=\"text-align: right;\">\n",
       "      <th></th>\n",
       "      <th>Weight</th>\n",
       "      <th>Length1</th>\n",
       "      <th>Length2</th>\n",
       "      <th>Length3</th>\n",
       "      <th>Height</th>\n",
       "      <th>Width</th>\n",
       "    </tr>\n",
       "  </thead>\n",
       "  <tbody>\n",
       "    <tr>\n",
       "      <th>Weight</th>\n",
       "      <td>1.000000</td>\n",
       "      <td>0.937050</td>\n",
       "      <td>0.946256</td>\n",
       "      <td>0.947136</td>\n",
       "      <td>0.964528</td>\n",
       "      <td>0.925303</td>\n",
       "    </tr>\n",
       "    <tr>\n",
       "      <th>Length1</th>\n",
       "      <td>0.937050</td>\n",
       "      <td>1.000000</td>\n",
       "      <td>0.997713</td>\n",
       "      <td>0.996353</td>\n",
       "      <td>0.939384</td>\n",
       "      <td>0.899298</td>\n",
       "    </tr>\n",
       "    <tr>\n",
       "      <th>Length2</th>\n",
       "      <td>0.946256</td>\n",
       "      <td>0.997713</td>\n",
       "      <td>1.000000</td>\n",
       "      <td>0.998237</td>\n",
       "      <td>0.950391</td>\n",
       "      <td>0.915717</td>\n",
       "    </tr>\n",
       "    <tr>\n",
       "      <th>Length3</th>\n",
       "      <td>0.947136</td>\n",
       "      <td>0.996353</td>\n",
       "      <td>0.998237</td>\n",
       "      <td>1.000000</td>\n",
       "      <td>0.952900</td>\n",
       "      <td>0.921206</td>\n",
       "    </tr>\n",
       "    <tr>\n",
       "      <th>Height</th>\n",
       "      <td>0.964528</td>\n",
       "      <td>0.939384</td>\n",
       "      <td>0.950391</td>\n",
       "      <td>0.952900</td>\n",
       "      <td>1.000000</td>\n",
       "      <td>0.926692</td>\n",
       "    </tr>\n",
       "    <tr>\n",
       "      <th>Width</th>\n",
       "      <td>0.925303</td>\n",
       "      <td>0.899298</td>\n",
       "      <td>0.915717</td>\n",
       "      <td>0.921206</td>\n",
       "      <td>0.926692</td>\n",
       "      <td>1.000000</td>\n",
       "    </tr>\n",
       "  </tbody>\n",
       "</table>\n",
       "</div>"
      ],
      "text/plain": [
       "           Weight   Length1   Length2   Length3    Height     Width\n",
       "Weight   1.000000  0.937050  0.946256  0.947136  0.964528  0.925303\n",
       "Length1  0.937050  1.000000  0.997713  0.996353  0.939384  0.899298\n",
       "Length2  0.946256  0.997713  1.000000  0.998237  0.950391  0.915717\n",
       "Length3  0.947136  0.996353  0.998237  1.000000  0.952900  0.921206\n",
       "Height   0.964528  0.939384  0.950391  0.952900  1.000000  0.926692\n",
       "Width    0.925303  0.899298  0.915717  0.921206  0.926692  1.000000"
      ]
     },
     "execution_count": 229,
     "metadata": {},
     "output_type": "execute_result"
    }
   ],
   "source": [
    "df_Bream.corr()"
   ]
  },
  {
   "cell_type": "code",
   "execution_count": 230,
   "id": "f3aa3972",
   "metadata": {},
   "outputs": [
    {
     "data": {
      "text/plain": [
       "<AxesSubplot:xlabel='Height', ylabel='Weight'>"
      ]
     },
     "execution_count": 230,
     "metadata": {},
     "output_type": "execute_result"
    },
    {
     "data": {
      "image/png": "[encoded data removed]",
      "text/plain": [
       "<Figure size 360x432 with 1 Axes>"
      ]
     },
     "metadata": {
      "needs_background": "light"
     },
     "output_type": "display_data"
    }
   ],
   "source": [
    "sns.scatterplot(x=df_Bream.Height, y=df_Bream.Weight)"
   ]
  },
  {
   "cell_type": "code",
   "execution_count": 231,
   "id": "7f05f469",
   "metadata": {},
   "outputs": [
    {
     "data": {
      "text/html": [
       "<div>\n",
       "<style scoped>\n",
       "    .dataframe tbody tr th:only-of-type {\n",
       "        vertical-align: middle;\n",
       "    }\n",
       "\n",
       "    .dataframe tbody tr th {\n",
       "        vertical-align: top;\n",
       "    }\n",
       "\n",
       "    .dataframe thead th {\n",
       "        text-align: right;\n",
       "    }\n",
       "</style>\n",
       "<table border=\"1\" class=\"dataframe\">\n",
       "  <thead>\n",
       "    <tr style=\"text-align: right;\">\n",
       "      <th></th>\n",
       "      <th>Weight</th>\n",
       "      <th>Length1</th>\n",
       "      <th>Length2</th>\n",
       "      <th>Length3</th>\n",
       "      <th>Height</th>\n",
       "      <th>Width</th>\n",
       "    </tr>\n",
       "  </thead>\n",
       "  <tbody>\n",
       "    <tr>\n",
       "      <th>Weight</th>\n",
       "      <td>1.000000</td>\n",
       "      <td>0.946441</td>\n",
       "      <td>0.950141</td>\n",
       "      <td>0.950687</td>\n",
       "      <td>0.957430</td>\n",
       "      <td>0.966938</td>\n",
       "    </tr>\n",
       "    <tr>\n",
       "      <th>Length1</th>\n",
       "      <td>0.946441</td>\n",
       "      <td>1.000000</td>\n",
       "      <td>0.998456</td>\n",
       "      <td>0.995986</td>\n",
       "      <td>0.944971</td>\n",
       "      <td>0.959626</td>\n",
       "    </tr>\n",
       "    <tr>\n",
       "      <th>Length2</th>\n",
       "      <td>0.950141</td>\n",
       "      <td>0.998456</td>\n",
       "      <td>1.000000</td>\n",
       "      <td>0.997550</td>\n",
       "      <td>0.951763</td>\n",
       "      <td>0.963086</td>\n",
       "    </tr>\n",
       "    <tr>\n",
       "      <th>Length3</th>\n",
       "      <td>0.950687</td>\n",
       "      <td>0.995986</td>\n",
       "      <td>0.997550</td>\n",
       "      <td>1.000000</td>\n",
       "      <td>0.956686</td>\n",
       "      <td>0.964492</td>\n",
       "    </tr>\n",
       "    <tr>\n",
       "      <th>Height</th>\n",
       "      <td>0.957430</td>\n",
       "      <td>0.944971</td>\n",
       "      <td>0.951763</td>\n",
       "      <td>0.956686</td>\n",
       "      <td>1.000000</td>\n",
       "      <td>0.951269</td>\n",
       "    </tr>\n",
       "    <tr>\n",
       "      <th>Width</th>\n",
       "      <td>0.966938</td>\n",
       "      <td>0.959626</td>\n",
       "      <td>0.963086</td>\n",
       "      <td>0.964492</td>\n",
       "      <td>0.951269</td>\n",
       "      <td>1.000000</td>\n",
       "    </tr>\n",
       "  </tbody>\n",
       "</table>\n",
       "</div>"
      ],
      "text/plain": [
       "           Weight   Length1   Length2   Length3    Height     Width\n",
       "Weight   1.000000  0.946441  0.950141  0.950687  0.957430  0.966938\n",
       "Length1  0.946441  1.000000  0.998456  0.995986  0.944971  0.959626\n",
       "Length2  0.950141  0.998456  1.000000  0.997550  0.951763  0.963086\n",
       "Length3  0.950687  0.995986  0.997550  1.000000  0.956686  0.964492\n",
       "Height   0.957430  0.944971  0.951763  0.956686  1.000000  0.951269\n",
       "Width    0.966938  0.959626  0.963086  0.964492  0.951269  1.000000"
      ]
     },
     "execution_count": 231,
     "metadata": {},
     "output_type": "execute_result"
    }
   ],
   "source": [
    "df_Roach.corr()"
   ]
  },
  {
   "cell_type": "code",
   "execution_count": 232,
   "id": "dfc18191",
   "metadata": {},
   "outputs": [
    {
     "data": {
      "text/plain": [
       "<AxesSubplot:xlabel='Width', ylabel='Weight'>"
      ]
     },
     "execution_count": 232,
     "metadata": {},
     "output_type": "execute_result"
    },
    {
     "data": {
      "image/png": "[encoded data removed]",
      "text/plain": [
       "<Figure size 360x432 with 1 Axes>"
      ]
     },
     "metadata": {
      "needs_background": "light"
     },
     "output_type": "display_data"
    }
   ],
   "source": [
    "sns.scatterplot(x=df_Roach.Width, y=df_Roach.Weight)"
   ]
  },
  {
   "cell_type": "code",
   "execution_count": 233,
   "id": "e228492b",
   "metadata": {},
   "outputs": [
    {
     "data": {
      "text/html": [
       "<div>\n",
       "<style scoped>\n",
       "    .dataframe tbody tr th:only-of-type {\n",
       "        vertical-align: middle;\n",
       "    }\n",
       "\n",
       "    .dataframe tbody tr th {\n",
       "        vertical-align: top;\n",
       "    }\n",
       "\n",
       "    .dataframe thead th {\n",
       "        text-align: right;\n",
       "    }\n",
       "</style>\n",
       "<table border=\"1\" class=\"dataframe\">\n",
       "  <thead>\n",
       "    <tr style=\"text-align: right;\">\n",
       "      <th></th>\n",
       "      <th>Weight</th>\n",
       "      <th>Length1</th>\n",
       "      <th>Length2</th>\n",
       "      <th>Length3</th>\n",
       "      <th>Height</th>\n",
       "      <th>Width</th>\n",
       "    </tr>\n",
       "  </thead>\n",
       "  <tbody>\n",
       "    <tr>\n",
       "      <th>Weight</th>\n",
       "      <td>1.000000</td>\n",
       "      <td>0.948366</td>\n",
       "      <td>0.953925</td>\n",
       "      <td>0.961982</td>\n",
       "      <td>0.962985</td>\n",
       "      <td>0.972943</td>\n",
       "    </tr>\n",
       "    <tr>\n",
       "      <th>Length1</th>\n",
       "      <td>0.948366</td>\n",
       "      <td>1.000000</td>\n",
       "      <td>0.999652</td>\n",
       "      <td>0.997061</td>\n",
       "      <td>0.932132</td>\n",
       "      <td>0.919919</td>\n",
       "    </tr>\n",
       "    <tr>\n",
       "      <th>Length2</th>\n",
       "      <td>0.953925</td>\n",
       "      <td>0.999652</td>\n",
       "      <td>1.000000</td>\n",
       "      <td>0.997773</td>\n",
       "      <td>0.936497</td>\n",
       "      <td>0.926557</td>\n",
       "    </tr>\n",
       "    <tr>\n",
       "      <th>Length3</th>\n",
       "      <td>0.961982</td>\n",
       "      <td>0.997061</td>\n",
       "      <td>0.997773</td>\n",
       "      <td>1.000000</td>\n",
       "      <td>0.934704</td>\n",
       "      <td>0.940135</td>\n",
       "    </tr>\n",
       "    <tr>\n",
       "      <th>Height</th>\n",
       "      <td>0.962985</td>\n",
       "      <td>0.932132</td>\n",
       "      <td>0.936497</td>\n",
       "      <td>0.934704</td>\n",
       "      <td>1.000000</td>\n",
       "      <td>0.947367</td>\n",
       "    </tr>\n",
       "    <tr>\n",
       "      <th>Width</th>\n",
       "      <td>0.972943</td>\n",
       "      <td>0.919919</td>\n",
       "      <td>0.926557</td>\n",
       "      <td>0.940135</td>\n",
       "      <td>0.947367</td>\n",
       "      <td>1.000000</td>\n",
       "    </tr>\n",
       "  </tbody>\n",
       "</table>\n",
       "</div>"
      ],
      "text/plain": [
       "           Weight   Length1   Length2   Length3    Height     Width\n",
       "Weight   1.000000  0.948366  0.953925  0.961982  0.962985  0.972943\n",
       "Length1  0.948366  1.000000  0.999652  0.997061  0.932132  0.919919\n",
       "Length2  0.953925  0.999652  1.000000  0.997773  0.936497  0.926557\n",
       "Length3  0.961982  0.997061  0.997773  1.000000  0.934704  0.940135\n",
       "Height   0.962985  0.932132  0.936497  0.934704  1.000000  0.947367\n",
       "Width    0.972943  0.919919  0.926557  0.940135  0.947367  1.000000"
      ]
     },
     "execution_count": 233,
     "metadata": {},
     "output_type": "execute_result"
    }
   ],
   "source": [
    "df_Pike.corr()"
   ]
  },
  {
   "cell_type": "code",
   "execution_count": 234,
   "id": "58b4ea3f",
   "metadata": {},
   "outputs": [
    {
     "data": {
      "text/plain": [
       "<AxesSubplot:xlabel='Length3', ylabel='Weight'>"
      ]
     },
     "execution_count": 234,
     "metadata": {},
     "output_type": "execute_result"
    },
    {
     "data": {
      "image/png": "[encoded data removed]",
      "text/plain": [
       "<Figure size 360x432 with 1 Axes>"
      ]
     },
     "metadata": {
      "needs_background": "light"
     },
     "output_type": "display_data"
    }
   ],
   "source": [
    "sns.scatterplot(x=df_Pike.Length3, y=df_Pike.Weight, hue=df_Pike.Height)"
   ]
  },
  {
   "cell_type": "code",
   "execution_count": 235,
   "id": "f06407e3",
   "metadata": {},
   "outputs": [
    {
     "data": {
      "text/html": [
       "<div>\n",
       "<style scoped>\n",
       "    .dataframe tbody tr th:only-of-type {\n",
       "        vertical-align: middle;\n",
       "    }\n",
       "\n",
       "    .dataframe tbody tr th {\n",
       "        vertical-align: top;\n",
       "    }\n",
       "\n",
       "    .dataframe thead th {\n",
       "        text-align: right;\n",
       "    }\n",
       "</style>\n",
       "<table border=\"1\" class=\"dataframe\">\n",
       "  <thead>\n",
       "    <tr style=\"text-align: right;\">\n",
       "      <th></th>\n",
       "      <th>Weight</th>\n",
       "      <th>Length1</th>\n",
       "      <th>Length2</th>\n",
       "      <th>Length3</th>\n",
       "      <th>Height</th>\n",
       "      <th>Width</th>\n",
       "    </tr>\n",
       "  </thead>\n",
       "  <tbody>\n",
       "    <tr>\n",
       "      <th>Weight</th>\n",
       "      <td>1.000000</td>\n",
       "      <td>0.947743</td>\n",
       "      <td>0.960818</td>\n",
       "      <td>0.947868</td>\n",
       "      <td>0.960512</td>\n",
       "      <td>0.922378</td>\n",
       "    </tr>\n",
       "    <tr>\n",
       "      <th>Length1</th>\n",
       "      <td>0.947743</td>\n",
       "      <td>1.000000</td>\n",
       "      <td>0.997199</td>\n",
       "      <td>0.997566</td>\n",
       "      <td>0.937659</td>\n",
       "      <td>0.817129</td>\n",
       "    </tr>\n",
       "    <tr>\n",
       "      <th>Length2</th>\n",
       "      <td>0.960818</td>\n",
       "      <td>0.997199</td>\n",
       "      <td>1.000000</td>\n",
       "      <td>0.994037</td>\n",
       "      <td>0.941374</td>\n",
       "      <td>0.836672</td>\n",
       "    </tr>\n",
       "    <tr>\n",
       "      <th>Length3</th>\n",
       "      <td>0.947868</td>\n",
       "      <td>0.997566</td>\n",
       "      <td>0.994037</td>\n",
       "      <td>1.000000</td>\n",
       "      <td>0.936907</td>\n",
       "      <td>0.821387</td>\n",
       "    </tr>\n",
       "    <tr>\n",
       "      <th>Height</th>\n",
       "      <td>0.960512</td>\n",
       "      <td>0.937659</td>\n",
       "      <td>0.941374</td>\n",
       "      <td>0.936907</td>\n",
       "      <td>1.000000</td>\n",
       "      <td>0.867391</td>\n",
       "    </tr>\n",
       "    <tr>\n",
       "      <th>Width</th>\n",
       "      <td>0.922378</td>\n",
       "      <td>0.817129</td>\n",
       "      <td>0.836672</td>\n",
       "      <td>0.821387</td>\n",
       "      <td>0.867391</td>\n",
       "      <td>1.000000</td>\n",
       "    </tr>\n",
       "  </tbody>\n",
       "</table>\n",
       "</div>"
      ],
      "text/plain": [
       "           Weight   Length1   Length2   Length3    Height     Width\n",
       "Weight   1.000000  0.947743  0.960818  0.947868  0.960512  0.922378\n",
       "Length1  0.947743  1.000000  0.997199  0.997566  0.937659  0.817129\n",
       "Length2  0.960818  0.997199  1.000000  0.994037  0.941374  0.836672\n",
       "Length3  0.947868  0.997566  0.994037  1.000000  0.936907  0.821387\n",
       "Height   0.960512  0.937659  0.941374  0.936907  1.000000  0.867391\n",
       "Width    0.922378  0.817129  0.836672  0.821387  0.867391  1.000000"
      ]
     },
     "execution_count": 235,
     "metadata": {},
     "output_type": "execute_result"
    }
   ],
   "source": [
    "df_Smelt.corr()"
   ]
  },
  {
   "cell_type": "code",
   "execution_count": 236,
   "id": "cb73e899",
   "metadata": {},
   "outputs": [
    {
     "data": {
      "text/plain": [
       "<AxesSubplot:xlabel='Height', ylabel='Weight'>"
      ]
     },
     "execution_count": 236,
     "metadata": {},
     "output_type": "execute_result"
    },
    {
     "data": {
      "image/png": "[encoded data removed]",
      "text/plain": [
       "<Figure size 360x432 with 1 Axes>"
      ]
     },
     "metadata": {
      "needs_background": "light"
     },
     "output_type": "display_data"
    }
   ],
   "source": [
    "sns.scatterplot(x=df_Smelt.Height, y=df_Smelt.Weight)"
   ]
  },
  {
   "cell_type": "code",
   "execution_count": 237,
   "id": "053b3259",
   "metadata": {},
   "outputs": [
    {
     "data": {
      "text/html": [
       "<div>\n",
       "<style scoped>\n",
       "    .dataframe tbody tr th:only-of-type {\n",
       "        vertical-align: middle;\n",
       "    }\n",
       "\n",
       "    .dataframe tbody tr th {\n",
       "        vertical-align: top;\n",
       "    }\n",
       "\n",
       "    .dataframe thead th {\n",
       "        text-align: right;\n",
       "    }\n",
       "</style>\n",
       "<table border=\"1\" class=\"dataframe\">\n",
       "  <thead>\n",
       "    <tr style=\"text-align: right;\">\n",
       "      <th></th>\n",
       "      <th>Weight</th>\n",
       "      <th>Length1</th>\n",
       "      <th>Length2</th>\n",
       "      <th>Length3</th>\n",
       "      <th>Height</th>\n",
       "      <th>Width</th>\n",
       "    </tr>\n",
       "  </thead>\n",
       "  <tbody>\n",
       "    <tr>\n",
       "      <th>Weight</th>\n",
       "      <td>1.000000</td>\n",
       "      <td>0.972159</td>\n",
       "      <td>0.971837</td>\n",
       "      <td>0.970830</td>\n",
       "      <td>0.964023</td>\n",
       "      <td>0.985956</td>\n",
       "    </tr>\n",
       "    <tr>\n",
       "      <th>Length1</th>\n",
       "      <td>0.972159</td>\n",
       "      <td>1.000000</td>\n",
       "      <td>0.999941</td>\n",
       "      <td>0.999852</td>\n",
       "      <td>0.982392</td>\n",
       "      <td>0.981945</td>\n",
       "    </tr>\n",
       "    <tr>\n",
       "      <th>Length2</th>\n",
       "      <td>0.971837</td>\n",
       "      <td>0.999941</td>\n",
       "      <td>1.000000</td>\n",
       "      <td>0.999955</td>\n",
       "      <td>0.982578</td>\n",
       "      <td>0.982896</td>\n",
       "    </tr>\n",
       "    <tr>\n",
       "      <th>Length3</th>\n",
       "      <td>0.970830</td>\n",
       "      <td>0.999852</td>\n",
       "      <td>0.999955</td>\n",
       "      <td>1.000000</td>\n",
       "      <td>0.983122</td>\n",
       "      <td>0.982749</td>\n",
       "    </tr>\n",
       "    <tr>\n",
       "      <th>Height</th>\n",
       "      <td>0.964023</td>\n",
       "      <td>0.982392</td>\n",
       "      <td>0.982578</td>\n",
       "      <td>0.983122</td>\n",
       "      <td>1.000000</td>\n",
       "      <td>0.970568</td>\n",
       "    </tr>\n",
       "    <tr>\n",
       "      <th>Width</th>\n",
       "      <td>0.985956</td>\n",
       "      <td>0.981945</td>\n",
       "      <td>0.982896</td>\n",
       "      <td>0.982749</td>\n",
       "      <td>0.970568</td>\n",
       "      <td>1.000000</td>\n",
       "    </tr>\n",
       "  </tbody>\n",
       "</table>\n",
       "</div>"
      ],
      "text/plain": [
       "           Weight   Length1   Length2   Length3    Height     Width\n",
       "Weight   1.000000  0.972159  0.971837  0.970830  0.964023  0.985956\n",
       "Length1  0.972159  1.000000  0.999941  0.999852  0.982392  0.981945\n",
       "Length2  0.971837  0.999941  1.000000  0.999955  0.982578  0.982896\n",
       "Length3  0.970830  0.999852  0.999955  1.000000  0.983122  0.982749\n",
       "Height   0.964023  0.982392  0.982578  0.983122  1.000000  0.970568\n",
       "Width    0.985956  0.981945  0.982896  0.982749  0.970568  1.000000"
      ]
     },
     "execution_count": 237,
     "metadata": {},
     "output_type": "execute_result"
    }
   ],
   "source": [
    "df_Parkki.corr()"
   ]
  },
  {
   "cell_type": "code",
   "execution_count": 238,
   "id": "0b2aaaf2",
   "metadata": {},
   "outputs": [
    {
     "data": {
      "text/plain": [
       "<AxesSubplot:xlabel='Length3', ylabel='Weight'>"
      ]
     },
     "execution_count": 238,
     "metadata": {},
     "output_type": "execute_result"
    },
    {
     "data": {
      "image/png": "[encoded data removed]",
      "text/plain": [
       "<Figure size 360x432 with 1 Axes>"
      ]
     },
     "metadata": {
      "needs_background": "light"
     },
     "output_type": "display_data"
    }
   ],
   "source": [
    "sns.scatterplot(x=df_Parkki.Length3, y=df_Parkki.Weight)"
   ]
  },
  {
   "cell_type": "code",
   "execution_count": 239,
   "id": "bcb101ec",
   "metadata": {},
   "outputs": [
    {
     "data": {
      "text/html": [
       "<div>\n",
       "<style scoped>\n",
       "    .dataframe tbody tr th:only-of-type {\n",
       "        vertical-align: middle;\n",
       "    }\n",
       "\n",
       "    .dataframe tbody tr th {\n",
       "        vertical-align: top;\n",
       "    }\n",
       "\n",
       "    .dataframe thead th {\n",
       "        text-align: right;\n",
       "    }\n",
       "</style>\n",
       "<table border=\"1\" class=\"dataframe\">\n",
       "  <thead>\n",
       "    <tr style=\"text-align: right;\">\n",
       "      <th></th>\n",
       "      <th>Weight</th>\n",
       "      <th>Length1</th>\n",
       "      <th>Length2</th>\n",
       "      <th>Length3</th>\n",
       "      <th>Height</th>\n",
       "      <th>Width</th>\n",
       "    </tr>\n",
       "  </thead>\n",
       "  <tbody>\n",
       "    <tr>\n",
       "      <th>Weight</th>\n",
       "      <td>1.000000</td>\n",
       "      <td>0.996160</td>\n",
       "      <td>0.996344</td>\n",
       "      <td>0.996465</td>\n",
       "      <td>0.976360</td>\n",
       "      <td>0.874514</td>\n",
       "    </tr>\n",
       "    <tr>\n",
       "      <th>Length1</th>\n",
       "      <td>0.996160</td>\n",
       "      <td>1.000000</td>\n",
       "      <td>0.999981</td>\n",
       "      <td>0.999980</td>\n",
       "      <td>0.968587</td>\n",
       "      <td>0.860283</td>\n",
       "    </tr>\n",
       "    <tr>\n",
       "      <th>Length2</th>\n",
       "      <td>0.996344</td>\n",
       "      <td>0.999981</td>\n",
       "      <td>1.000000</td>\n",
       "      <td>0.999971</td>\n",
       "      <td>0.968999</td>\n",
       "      <td>0.860854</td>\n",
       "    </tr>\n",
       "    <tr>\n",
       "      <th>Length3</th>\n",
       "      <td>0.996465</td>\n",
       "      <td>0.999980</td>\n",
       "      <td>0.999971</td>\n",
       "      <td>1.000000</td>\n",
       "      <td>0.968463</td>\n",
       "      <td>0.860157</td>\n",
       "    </tr>\n",
       "    <tr>\n",
       "      <th>Height</th>\n",
       "      <td>0.976360</td>\n",
       "      <td>0.968587</td>\n",
       "      <td>0.968999</td>\n",
       "      <td>0.968463</td>\n",
       "      <td>1.000000</td>\n",
       "      <td>0.955991</td>\n",
       "    </tr>\n",
       "    <tr>\n",
       "      <th>Width</th>\n",
       "      <td>0.874514</td>\n",
       "      <td>0.860283</td>\n",
       "      <td>0.860854</td>\n",
       "      <td>0.860157</td>\n",
       "      <td>0.955991</td>\n",
       "      <td>1.000000</td>\n",
       "    </tr>\n",
       "  </tbody>\n",
       "</table>\n",
       "</div>"
      ],
      "text/plain": [
       "           Weight   Length1   Length2   Length3    Height     Width\n",
       "Weight   1.000000  0.996160  0.996344  0.996465  0.976360  0.874514\n",
       "Length1  0.996160  1.000000  0.999981  0.999980  0.968587  0.860283\n",
       "Length2  0.996344  0.999981  1.000000  0.999971  0.968999  0.860854\n",
       "Length3  0.996465  0.999980  0.999971  1.000000  0.968463  0.860157\n",
       "Height   0.976360  0.968587  0.968999  0.968463  1.000000  0.955991\n",
       "Width    0.874514  0.860283  0.860854  0.860157  0.955991  1.000000"
      ]
     },
     "execution_count": 239,
     "metadata": {},
     "output_type": "execute_result"
    }
   ],
   "source": [
    "df_Whitefish.corr()"
   ]
  },
  {
   "cell_type": "code",
   "execution_count": 240,
   "id": "d6b538ff",
   "metadata": {
    "scrolled": true
   },
   "outputs": [
    {
     "data": {
      "text/plain": [
       "<AxesSubplot:xlabel='Length3', ylabel='Weight'>"
      ]
     },
     "execution_count": 240,
     "metadata": {},
     "output_type": "execute_result"
    },
    {
     "data": {
      "image/png": "[encoded data removed]",
      "text/plain": [
       "<Figure size 360x432 with 1 Axes>"
      ]
     },
     "metadata": {
      "needs_background": "light"
     },
     "output_type": "display_data"
    }
   ],
   "source": [
    "sns.scatterplot(x=df_Whitefish.Length3, y=df_Whitefish.Weight)"
   ]
  },
  {
   "cell_type": "markdown",
   "id": "4259e882",
   "metadata": {},
   "source": [
    "### Прослеживается влияние Length3, Height и Width.\n",
    "    Объеденим рыб в зависимости от этих 3 параметров"
   ]
  },
  {
   "cell_type": "code",
   "execution_count": 241,
   "id": "60b311aa",
   "metadata": {
    "scrolled": true
   },
   "outputs": [
    {
     "data": {
      "text/plain": [
       "<seaborn.axisgrid.PairGrid at 0x7fe6d65125e0>"
      ]
     },
     "execution_count": 241,
     "metadata": {},
     "output_type": "execute_result"
    },
    {
     "data": {
      "image/png": "[encoded data removed]",
      "text/plain": [
       "<Figure size 443.25x180 with 2 Axes>"
      ]
     },
     "metadata": {
      "needs_background": "light"
     },
     "output_type": "display_data"
    }
   ],
   "source": [
    "sns.pairplot(data= df, x_vars = ['Length3','Width'], y_vars ='Height',hue='Species')"
   ]
  },
  {
   "cell_type": "code",
   "execution_count": 242,
   "id": "15e665e3",
   "metadata": {},
   "outputs": [
    {
     "data": {
      "text/plain": [
       "<seaborn.axisgrid.PairGrid at 0x7fe6d595d1c0>"
      ]
     },
     "execution_count": 242,
     "metadata": {},
     "output_type": "execute_result"
    },
    {
     "data": {
      "image/png": "[encoded data removed]",
      "text/plain": [
       "<Figure size 443.25x180 with 2 Axes>"
      ]
     },
     "metadata": {
      "needs_background": "light"
     },
     "output_type": "display_data"
    }
   ],
   "source": [
    "sns.pairplot(data= df, x_vars = ['Height','Width'], y_vars ='Length3',hue='Species')"
   ]
  },
  {
   "cell_type": "markdown",
   "id": "483bbd9e",
   "metadata": {},
   "source": [
    "Прослеживается 2-3 группы рыб с примерно одинаковыми линейными зависимостями"
   ]
  },
  {
   "cell_type": "code",
   "execution_count": 243,
   "id": "3509ce54",
   "metadata": {},
   "outputs": [
    {
     "data": {
      "text/html": [
       "<div>\n",
       "<style scoped>\n",
       "    .dataframe tbody tr th:only-of-type {\n",
       "        vertical-align: middle;\n",
       "    }\n",
       "\n",
       "    .dataframe tbody tr th {\n",
       "        vertical-align: top;\n",
       "    }\n",
       "\n",
       "    .dataframe thead th {\n",
       "        text-align: right;\n",
       "    }\n",
       "</style>\n",
       "<table border=\"1\" class=\"dataframe\">\n",
       "  <thead>\n",
       "    <tr style=\"text-align: right;\">\n",
       "      <th></th>\n",
       "      <th>Weight</th>\n",
       "      <th>Length1</th>\n",
       "      <th>Length2</th>\n",
       "      <th>Length3</th>\n",
       "      <th>Height</th>\n",
       "      <th>Width</th>\n",
       "    </tr>\n",
       "  </thead>\n",
       "  <tbody>\n",
       "    <tr>\n",
       "      <th>count</th>\n",
       "      <td>46.000000</td>\n",
       "      <td>46.000000</td>\n",
       "      <td>46.000000</td>\n",
       "      <td>46.000000</td>\n",
       "      <td>46.000000</td>\n",
       "      <td>46.000000</td>\n",
       "    </tr>\n",
       "    <tr>\n",
       "      <th>mean</th>\n",
       "      <td>507.108696</td>\n",
       "      <td>27.536957</td>\n",
       "      <td>30.056522</td>\n",
       "      <td>34.632609</td>\n",
       "      <td>13.695633</td>\n",
       "      <td>4.899883</td>\n",
       "    </tr>\n",
       "    <tr>\n",
       "      <th>std</th>\n",
       "      <td>272.615254</td>\n",
       "      <td>6.090114</td>\n",
       "      <td>6.683700</td>\n",
       "      <td>7.848285</td>\n",
       "      <td>3.270177</td>\n",
       "      <td>1.179462</td>\n",
       "    </tr>\n",
       "    <tr>\n",
       "      <th>min</th>\n",
       "      <td>55.000000</td>\n",
       "      <td>13.500000</td>\n",
       "      <td>14.700000</td>\n",
       "      <td>16.500000</td>\n",
       "      <td>6.577200</td>\n",
       "      <td>2.314200</td>\n",
       "    </tr>\n",
       "    <tr>\n",
       "      <th>25%</th>\n",
       "      <td>292.500000</td>\n",
       "      <td>23.925000</td>\n",
       "      <td>26.075000</td>\n",
       "      <td>30.275000</td>\n",
       "      <td>11.734450</td>\n",
       "      <td>4.251900</td>\n",
       "    </tr>\n",
       "    <tr>\n",
       "      <th>50%</th>\n",
       "      <td>500.000000</td>\n",
       "      <td>28.900000</td>\n",
       "      <td>31.250000</td>\n",
       "      <td>36.300000</td>\n",
       "      <td>14.244700</td>\n",
       "      <td>5.119000</td>\n",
       "    </tr>\n",
       "    <tr>\n",
       "      <th>75%</th>\n",
       "      <td>700.000000</td>\n",
       "      <td>31.725000</td>\n",
       "      <td>34.875000</td>\n",
       "      <td>40.300000</td>\n",
       "      <td>15.903450</td>\n",
       "      <td>5.692950</td>\n",
       "    </tr>\n",
       "    <tr>\n",
       "      <th>max</th>\n",
       "      <td>1000.000000</td>\n",
       "      <td>38.000000</td>\n",
       "      <td>41.000000</td>\n",
       "      <td>46.500000</td>\n",
       "      <td>18.957000</td>\n",
       "      <td>6.749700</td>\n",
       "    </tr>\n",
       "  </tbody>\n",
       "</table>\n",
       "</div>"
      ],
      "text/plain": [
       "            Weight    Length1    Length2    Length3     Height      Width\n",
       "count    46.000000  46.000000  46.000000  46.000000  46.000000  46.000000\n",
       "mean    507.108696  27.536957  30.056522  34.632609  13.695633   4.899883\n",
       "std     272.615254   6.090114   6.683700   7.848285   3.270177   1.179462\n",
       "min      55.000000  13.500000  14.700000  16.500000   6.577200   2.314200\n",
       "25%     292.500000  23.925000  26.075000  30.275000  11.734450   4.251900\n",
       "50%     500.000000  28.900000  31.250000  36.300000  14.244700   5.119000\n",
       "75%     700.000000  31.725000  34.875000  40.300000  15.903450   5.692950\n",
       "max    1000.000000  38.000000  41.000000  46.500000  18.957000   6.749700"
      ]
     },
     "execution_count": 243,
     "metadata": {},
     "output_type": "execute_result"
    }
   ],
   "source": [
    "df_one_g = df[(df.Species=='Bream')|(df.Species=='Parkki')]\n",
    "df_one_g.describe()"
   ]
  },
  {
   "cell_type": "code",
   "execution_count": 244,
   "id": "5a80e7b4",
   "metadata": {},
   "outputs": [
    {
     "data": {
      "text/html": [
       "<div>\n",
       "<style scoped>\n",
       "    .dataframe tbody tr th:only-of-type {\n",
       "        vertical-align: middle;\n",
       "    }\n",
       "\n",
       "    .dataframe tbody tr th {\n",
       "        vertical-align: top;\n",
       "    }\n",
       "\n",
       "    .dataframe thead th {\n",
       "        text-align: right;\n",
       "    }\n",
       "</style>\n",
       "<table border=\"1\" class=\"dataframe\">\n",
       "  <thead>\n",
       "    <tr style=\"text-align: right;\">\n",
       "      <th></th>\n",
       "      <th>Weight</th>\n",
       "      <th>Length1</th>\n",
       "      <th>Length2</th>\n",
       "      <th>Length3</th>\n",
       "      <th>Height</th>\n",
       "      <th>Width</th>\n",
       "    </tr>\n",
       "  </thead>\n",
       "  <tbody>\n",
       "    <tr>\n",
       "      <th>Weight</th>\n",
       "      <td>1.000000</td>\n",
       "      <td>0.954825</td>\n",
       "      <td>0.957543</td>\n",
       "      <td>0.948788</td>\n",
       "      <td>0.967473</td>\n",
       "      <td>0.953771</td>\n",
       "    </tr>\n",
       "    <tr>\n",
       "      <th>Length1</th>\n",
       "      <td>0.954825</td>\n",
       "      <td>1.000000</td>\n",
       "      <td>0.999378</td>\n",
       "      <td>0.996997</td>\n",
       "      <td>0.982449</td>\n",
       "      <td>0.971089</td>\n",
       "    </tr>\n",
       "    <tr>\n",
       "      <th>Length2</th>\n",
       "      <td>0.957543</td>\n",
       "      <td>0.999378</td>\n",
       "      <td>1.000000</td>\n",
       "      <td>0.997833</td>\n",
       "      <td>0.985544</td>\n",
       "      <td>0.975675</td>\n",
       "    </tr>\n",
       "    <tr>\n",
       "      <th>Length3</th>\n",
       "      <td>0.948788</td>\n",
       "      <td>0.996997</td>\n",
       "      <td>0.997833</td>\n",
       "      <td>1.000000</td>\n",
       "      <td>0.985215</td>\n",
       "      <td>0.975763</td>\n",
       "    </tr>\n",
       "    <tr>\n",
       "      <th>Height</th>\n",
       "      <td>0.967473</td>\n",
       "      <td>0.982449</td>\n",
       "      <td>0.985544</td>\n",
       "      <td>0.985215</td>\n",
       "      <td>1.000000</td>\n",
       "      <td>0.977452</td>\n",
       "    </tr>\n",
       "    <tr>\n",
       "      <th>Width</th>\n",
       "      <td>0.953771</td>\n",
       "      <td>0.971089</td>\n",
       "      <td>0.975675</td>\n",
       "      <td>0.975763</td>\n",
       "      <td>0.977452</td>\n",
       "      <td>1.000000</td>\n",
       "    </tr>\n",
       "  </tbody>\n",
       "</table>\n",
       "</div>"
      ],
      "text/plain": [
       "           Weight   Length1   Length2   Length3    Height     Width\n",
       "Weight   1.000000  0.954825  0.957543  0.948788  0.967473  0.953771\n",
       "Length1  0.954825  1.000000  0.999378  0.996997  0.982449  0.971089\n",
       "Length2  0.957543  0.999378  1.000000  0.997833  0.985544  0.975675\n",
       "Length3  0.948788  0.996997  0.997833  1.000000  0.985215  0.975763\n",
       "Height   0.967473  0.982449  0.985544  0.985215  1.000000  0.977452\n",
       "Width    0.953771  0.971089  0.975675  0.975763  0.977452  1.000000"
      ]
     },
     "execution_count": 244,
     "metadata": {},
     "output_type": "execute_result"
    }
   ],
   "source": [
    "df_one_g.corr()"
   ]
  },
  {
   "cell_type": "code",
   "execution_count": 245,
   "id": "b112e158",
   "metadata": {},
   "outputs": [
    {
     "data": {
      "text/plain": [
       "<AxesSubplot:xlabel='Height', ylabel='Width'>"
      ]
     },
     "execution_count": 245,
     "metadata": {},
     "output_type": "execute_result"
    },
    {
     "data": {
      "image/png": "[encoded data removed]",
      "text/plain": [
       "<Figure size 360x432 with 1 Axes>"
      ]
     },
     "metadata": {
      "needs_background": "light"
     },
     "output_type": "display_data"
    }
   ],
   "source": [
    "sns.scatterplot(x=df_one_g.Height, y=df_one_g.Width, hue=df_one_g.Weight)"
   ]
  },
  {
   "cell_type": "code",
   "execution_count": 246,
   "id": "09ce5e66",
   "metadata": {},
   "outputs": [
    {
     "data": {
      "text/html": [
       "<div>\n",
       "<style scoped>\n",
       "    .dataframe tbody tr th:only-of-type {\n",
       "        vertical-align: middle;\n",
       "    }\n",
       "\n",
       "    .dataframe tbody tr th {\n",
       "        vertical-align: top;\n",
       "    }\n",
       "\n",
       "    .dataframe thead th {\n",
       "        text-align: right;\n",
       "    }\n",
       "</style>\n",
       "<table border=\"1\" class=\"dataframe\">\n",
       "  <thead>\n",
       "    <tr style=\"text-align: right;\">\n",
       "      <th></th>\n",
       "      <th>Weight</th>\n",
       "      <th>Length1</th>\n",
       "      <th>Length2</th>\n",
       "      <th>Length3</th>\n",
       "      <th>Height</th>\n",
       "      <th>Width</th>\n",
       "    </tr>\n",
       "  </thead>\n",
       "  <tbody>\n",
       "    <tr>\n",
       "      <th>count</th>\n",
       "      <td>96.000000</td>\n",
       "      <td>96.000000</td>\n",
       "      <td>96.000000</td>\n",
       "      <td>96.000000</td>\n",
       "      <td>96.000000</td>\n",
       "      <td>96.000000</td>\n",
       "    </tr>\n",
       "    <tr>\n",
       "      <th>mean</th>\n",
       "      <td>291.004167</td>\n",
       "      <td>22.755208</td>\n",
       "      <td>24.607292</td>\n",
       "      <td>26.497917</td>\n",
       "      <td>6.929737</td>\n",
       "      <td>4.067886</td>\n",
       "    </tr>\n",
       "    <tr>\n",
       "      <th>std</th>\n",
       "      <td>316.319939</td>\n",
       "      <td>8.639309</td>\n",
       "      <td>9.266115</td>\n",
       "      <td>9.728450</td>\n",
       "      <td>3.117800</td>\n",
       "      <td>1.879467</td>\n",
       "    </tr>\n",
       "    <tr>\n",
       "      <th>min</th>\n",
       "      <td>5.900000</td>\n",
       "      <td>7.500000</td>\n",
       "      <td>8.400000</td>\n",
       "      <td>8.800000</td>\n",
       "      <td>1.728400</td>\n",
       "      <td>1.047600</td>\n",
       "    </tr>\n",
       "    <tr>\n",
       "      <th>25%</th>\n",
       "      <td>83.750000</td>\n",
       "      <td>17.425000</td>\n",
       "      <td>18.950000</td>\n",
       "      <td>20.675000</td>\n",
       "      <td>5.221425</td>\n",
       "      <td>3.046850</td>\n",
       "    </tr>\n",
       "    <tr>\n",
       "      <th>50%</th>\n",
       "      <td>150.000000</td>\n",
       "      <td>21.000000</td>\n",
       "      <td>22.600000</td>\n",
       "      <td>25.000000</td>\n",
       "      <td>6.457350</td>\n",
       "      <td>3.703250</td>\n",
       "    </tr>\n",
       "    <tr>\n",
       "      <th>75%</th>\n",
       "      <td>309.500000</td>\n",
       "      <td>27.125000</td>\n",
       "      <td>29.025000</td>\n",
       "      <td>31.000000</td>\n",
       "      <td>8.802700</td>\n",
       "      <td>4.864525</td>\n",
       "    </tr>\n",
       "    <tr>\n",
       "      <th>max</th>\n",
       "      <td>1100.000000</td>\n",
       "      <td>41.100000</td>\n",
       "      <td>44.000000</td>\n",
       "      <td>46.600000</td>\n",
       "      <td>12.800200</td>\n",
       "      <td>8.142000</td>\n",
       "    </tr>\n",
       "  </tbody>\n",
       "</table>\n",
       "</div>"
      ],
      "text/plain": [
       "            Weight    Length1    Length2    Length3     Height      Width\n",
       "count    96.000000  96.000000  96.000000  96.000000  96.000000  96.000000\n",
       "mean    291.004167  22.755208  24.607292  26.497917   6.929737   4.067886\n",
       "std     316.319939   8.639309   9.266115   9.728450   3.117800   1.879467\n",
       "min       5.900000   7.500000   8.400000   8.800000   1.728400   1.047600\n",
       "25%      83.750000  17.425000  18.950000  20.675000   5.221425   3.046850\n",
       "50%     150.000000  21.000000  22.600000  25.000000   6.457350   3.703250\n",
       "75%     309.500000  27.125000  29.025000  31.000000   8.802700   4.864525\n",
       "max    1100.000000  41.100000  44.000000  46.600000  12.800200   8.142000"
      ]
     },
     "execution_count": 246,
     "metadata": {},
     "output_type": "execute_result"
    }
   ],
   "source": [
    "df_two_g = df[(df.Species=='Smelt')|(df.Species=='Perch')|(df.Species=='Roach')|(df.Species=='Whitefish')]\n",
    "df_two_g.describe()"
   ]
  },
  {
   "cell_type": "code",
   "execution_count": 247,
   "id": "4aa576eb",
   "metadata": {},
   "outputs": [
    {
     "data": {
      "text/html": [
       "<div>\n",
       "<style scoped>\n",
       "    .dataframe tbody tr th:only-of-type {\n",
       "        vertical-align: middle;\n",
       "    }\n",
       "\n",
       "    .dataframe tbody tr th {\n",
       "        vertical-align: top;\n",
       "    }\n",
       "\n",
       "    .dataframe thead th {\n",
       "        text-align: right;\n",
       "    }\n",
       "</style>\n",
       "<table border=\"1\" class=\"dataframe\">\n",
       "  <thead>\n",
       "    <tr style=\"text-align: right;\">\n",
       "      <th></th>\n",
       "      <th>Weight</th>\n",
       "      <th>Length1</th>\n",
       "      <th>Length2</th>\n",
       "      <th>Length3</th>\n",
       "      <th>Height</th>\n",
       "      <th>Width</th>\n",
       "    </tr>\n",
       "  </thead>\n",
       "  <tbody>\n",
       "    <tr>\n",
       "      <th>Weight</th>\n",
       "      <td>1.000000</td>\n",
       "      <td>0.944213</td>\n",
       "      <td>0.940570</td>\n",
       "      <td>0.936661</td>\n",
       "      <td>0.920846</td>\n",
       "      <td>0.931684</td>\n",
       "    </tr>\n",
       "    <tr>\n",
       "      <th>Length1</th>\n",
       "      <td>0.944213</td>\n",
       "      <td>1.000000</td>\n",
       "      <td>0.999498</td>\n",
       "      <td>0.997862</td>\n",
       "      <td>0.979430</td>\n",
       "      <td>0.979372</td>\n",
       "    </tr>\n",
       "    <tr>\n",
       "      <th>Length2</th>\n",
       "      <td>0.940570</td>\n",
       "      <td>0.999498</td>\n",
       "      <td>1.000000</td>\n",
       "      <td>0.998124</td>\n",
       "      <td>0.981312</td>\n",
       "      <td>0.981044</td>\n",
       "    </tr>\n",
       "    <tr>\n",
       "      <th>Length3</th>\n",
       "      <td>0.936661</td>\n",
       "      <td>0.997862</td>\n",
       "      <td>0.998124</td>\n",
       "      <td>1.000000</td>\n",
       "      <td>0.986215</td>\n",
       "      <td>0.980149</td>\n",
       "    </tr>\n",
       "    <tr>\n",
       "      <th>Height</th>\n",
       "      <td>0.920846</td>\n",
       "      <td>0.979430</td>\n",
       "      <td>0.981312</td>\n",
       "      <td>0.986215</td>\n",
       "      <td>1.000000</td>\n",
       "      <td>0.982866</td>\n",
       "    </tr>\n",
       "    <tr>\n",
       "      <th>Width</th>\n",
       "      <td>0.931684</td>\n",
       "      <td>0.979372</td>\n",
       "      <td>0.981044</td>\n",
       "      <td>0.980149</td>\n",
       "      <td>0.982866</td>\n",
       "      <td>1.000000</td>\n",
       "    </tr>\n",
       "  </tbody>\n",
       "</table>\n",
       "</div>"
      ],
      "text/plain": [
       "           Weight   Length1   Length2   Length3    Height     Width\n",
       "Weight   1.000000  0.944213  0.940570  0.936661  0.920846  0.931684\n",
       "Length1  0.944213  1.000000  0.999498  0.997862  0.979430  0.979372\n",
       "Length2  0.940570  0.999498  1.000000  0.998124  0.981312  0.981044\n",
       "Length3  0.936661  0.997862  0.998124  1.000000  0.986215  0.980149\n",
       "Height   0.920846  0.979430  0.981312  0.986215  1.000000  0.982866\n",
       "Width    0.931684  0.979372  0.981044  0.980149  0.982866  1.000000"
      ]
     },
     "execution_count": 247,
     "metadata": {},
     "output_type": "execute_result"
    }
   ],
   "source": [
    "df_two_g.corr()"
   ]
  },
  {
   "cell_type": "code",
   "execution_count": 248,
   "id": "fe8c8773",
   "metadata": {},
   "outputs": [
    {
     "data": {
      "text/plain": [
       "<AxesSubplot:xlabel='Width', ylabel='Height'>"
      ]
     },
     "execution_count": 248,
     "metadata": {},
     "output_type": "execute_result"
    },
    {
     "data": {
      "image/png": "[encoded data removed]",
      "text/plain": [
       "<Figure size 360x432 with 1 Axes>"
      ]
     },
     "metadata": {
      "needs_background": "light"
     },
     "output_type": "display_data"
    }
   ],
   "source": [
    "sns.scatterplot(x=df_two_g.Width, y=df_two_g.Height, hue=df_two_g.Weight)"
   ]
  },
  {
   "cell_type": "markdown",
   "id": "79a304e2",
   "metadata": {},
   "source": [
    "### Применим метод главных компонент чтоб объеденить параметры в 1"
   ]
  },
  {
   "cell_type": "code",
   "execution_count": 249,
   "id": "330657dd",
   "metadata": {},
   "outputs": [],
   "source": [
    "target_one_g = df_one_g[['Weight', 'Species']]\n",
    "X_one_g = df_one_g.drop(['Weight', 'Species'], axis=1)"
   ]
  },
  {
   "cell_type": "code",
   "execution_count": 250,
   "id": "96d6227c",
   "metadata": {},
   "outputs": [
    {
     "data": {
      "text/html": [
       "<div>\n",
       "<style scoped>\n",
       "    .dataframe tbody tr th:only-of-type {\n",
       "        vertical-align: middle;\n",
       "    }\n",
       "\n",
       "    .dataframe tbody tr th {\n",
       "        vertical-align: top;\n",
       "    }\n",
       "\n",
       "    .dataframe thead th {\n",
       "        text-align: right;\n",
       "    }\n",
       "</style>\n",
       "<table border=\"1\" class=\"dataframe\">\n",
       "  <thead>\n",
       "    <tr style=\"text-align: right;\">\n",
       "      <th></th>\n",
       "      <th>0</th>\n",
       "      <th>1</th>\n",
       "      <th>2</th>\n",
       "      <th>3</th>\n",
       "      <th>4</th>\n",
       "      <th>5</th>\n",
       "      <th>6</th>\n",
       "      <th>7</th>\n",
       "      <th>8</th>\n",
       "      <th>9</th>\n",
       "      <th>...</th>\n",
       "      <th>62</th>\n",
       "      <th>63</th>\n",
       "      <th>64</th>\n",
       "      <th>65</th>\n",
       "      <th>66</th>\n",
       "      <th>67</th>\n",
       "      <th>68</th>\n",
       "      <th>69</th>\n",
       "      <th>70</th>\n",
       "      <th>71</th>\n",
       "    </tr>\n",
       "  </thead>\n",
       "  <tbody>\n",
       "    <tr>\n",
       "      <th>Length1</th>\n",
       "      <td>-4.336957</td>\n",
       "      <td>-3.536957</td>\n",
       "      <td>-3.636957</td>\n",
       "      <td>-1.236957</td>\n",
       "      <td>-1.036957</td>\n",
       "      <td>-0.736957</td>\n",
       "      <td>-0.736957</td>\n",
       "      <td>0.063043</td>\n",
       "      <td>0.063043</td>\n",
       "      <td>0.963043</td>\n",
       "      <td>...</td>\n",
       "      <td>-13.236957</td>\n",
       "      <td>-11.236957</td>\n",
       "      <td>-10.036957</td>\n",
       "      <td>-9.136957</td>\n",
       "      <td>-8.536957</td>\n",
       "      <td>-8.536957</td>\n",
       "      <td>-7.736957</td>\n",
       "      <td>-6.336957</td>\n",
       "      <td>-4.536957</td>\n",
       "      <td>-3.536957</td>\n",
       "    </tr>\n",
       "    <tr>\n",
       "      <th>Length2</th>\n",
       "      <td>-4.656522</td>\n",
       "      <td>-3.756522</td>\n",
       "      <td>-3.556522</td>\n",
       "      <td>-1.056522</td>\n",
       "      <td>-1.056522</td>\n",
       "      <td>-0.356522</td>\n",
       "      <td>-0.356522</td>\n",
       "      <td>-0.056522</td>\n",
       "      <td>-0.056522</td>\n",
       "      <td>0.643478</td>\n",
       "      <td>...</td>\n",
       "      <td>-14.556522</td>\n",
       "      <td>-12.356522</td>\n",
       "      <td>-11.056522</td>\n",
       "      <td>-10.056522</td>\n",
       "      <td>-9.356522</td>\n",
       "      <td>-9.356522</td>\n",
       "      <td>-8.556522</td>\n",
       "      <td>-7.056522</td>\n",
       "      <td>-5.056522</td>\n",
       "      <td>-4.056522</td>\n",
       "    </tr>\n",
       "    <tr>\n",
       "      <th>Length3</th>\n",
       "      <td>-4.632609</td>\n",
       "      <td>-3.432609</td>\n",
       "      <td>-3.532609</td>\n",
       "      <td>-1.132609</td>\n",
       "      <td>-0.632609</td>\n",
       "      <td>0.067391</td>\n",
       "      <td>-0.132609</td>\n",
       "      <td>0.367391</td>\n",
       "      <td>0.467391</td>\n",
       "      <td>1.567391</td>\n",
       "      <td>...</td>\n",
       "      <td>-17.232609</td>\n",
       "      <td>-14.832609</td>\n",
       "      <td>-13.332609</td>\n",
       "      <td>-12.232609</td>\n",
       "      <td>-11.432609</td>\n",
       "      <td>-11.432609</td>\n",
       "      <td>-10.532609</td>\n",
       "      <td>-8.832609</td>\n",
       "      <td>-6.632609</td>\n",
       "      <td>-5.632609</td>\n",
       "    </tr>\n",
       "    <tr>\n",
       "      <th>Height</th>\n",
       "      <td>-2.175633</td>\n",
       "      <td>-1.215633</td>\n",
       "      <td>-1.317833</td>\n",
       "      <td>-0.965633</td>\n",
       "      <td>-1.251633</td>\n",
       "      <td>-0.093233</td>\n",
       "      <td>0.483867</td>\n",
       "      <td>-1.025633</td>\n",
       "      <td>0.309267</td>\n",
       "      <td>0.530967</td>\n",
       "      <td>...</td>\n",
       "      <td>-7.118433</td>\n",
       "      <td>-6.290433</td>\n",
       "      <td>-5.303433</td>\n",
       "      <td>-4.802833</td>\n",
       "      <td>-5.158033</td>\n",
       "      <td>-4.299633</td>\n",
       "      <td>-3.959233</td>\n",
       "      <td>-3.349833</td>\n",
       "      <td>-2.607633</td>\n",
       "      <td>-2.327633</td>\n",
       "    </tr>\n",
       "    <tr>\n",
       "      <th>Width</th>\n",
       "      <td>-0.879883</td>\n",
       "      <td>-0.594283</td>\n",
       "      <td>-0.203783</td>\n",
       "      <td>-0.444383</td>\n",
       "      <td>0.234117</td>\n",
       "      <td>0.027517</td>\n",
       "      <td>0.378617</td>\n",
       "      <td>-0.209883</td>\n",
       "      <td>-0.056083</td>\n",
       "      <td>0.059517</td>\n",
       "      <td>...</td>\n",
       "      <td>-2.585683</td>\n",
       "      <td>-2.226883</td>\n",
       "      <td>-1.981783</td>\n",
       "      <td>-1.607083</td>\n",
       "      <td>-1.605483</td>\n",
       "      <td>-1.489483</td>\n",
       "      <td>-1.742783</td>\n",
       "      <td>-1.236283</td>\n",
       "      <td>-0.755883</td>\n",
       "      <td>-0.665883</td>\n",
       "    </tr>\n",
       "  </tbody>\n",
       "</table>\n",
       "<p>5 rows × 46 columns</p>\n",
       "</div>"
      ],
      "text/plain": [
       "               0         1         2         3         4         5         6   \\\n",
       "Length1 -4.336957 -3.536957 -3.636957 -1.236957 -1.036957 -0.736957 -0.736957   \n",
       "Length2 -4.656522 -3.756522 -3.556522 -1.056522 -1.056522 -0.356522 -0.356522   \n",
       "Length3 -4.632609 -3.432609 -3.532609 -1.132609 -0.632609  0.067391 -0.132609   \n",
       "Height  -2.175633 -1.215633 -1.317833 -0.965633 -1.251633 -0.093233  0.483867   \n",
       "Width   -0.879883 -0.594283 -0.203783 -0.444383  0.234117  0.027517  0.378617   \n",
       "\n",
       "               7         8         9   ...         62         63         64  \\\n",
       "Length1  0.063043  0.063043  0.963043  ... -13.236957 -11.236957 -10.036957   \n",
       "Length2 -0.056522 -0.056522  0.643478  ... -14.556522 -12.356522 -11.056522   \n",
       "Length3  0.367391  0.467391  1.567391  ... -17.232609 -14.832609 -13.332609   \n",
       "Height  -1.025633  0.309267  0.530967  ...  -7.118433  -6.290433  -5.303433   \n",
       "Width   -0.209883 -0.056083  0.059517  ...  -2.585683  -2.226883  -1.981783   \n",
       "\n",
       "                65         66         67         68        69        70  \\\n",
       "Length1  -9.136957  -8.536957  -8.536957  -7.736957 -6.336957 -4.536957   \n",
       "Length2 -10.056522  -9.356522  -9.356522  -8.556522 -7.056522 -5.056522   \n",
       "Length3 -12.232609 -11.432609 -11.432609 -10.532609 -8.832609 -6.632609   \n",
       "Height   -4.802833  -5.158033  -4.299633  -3.959233 -3.349833 -2.607633   \n",
       "Width    -1.607083  -1.605483  -1.489483  -1.742783 -1.236283 -0.755883   \n",
       "\n",
       "               71  \n",
       "Length1 -3.536957  \n",
       "Length2 -4.056522  \n",
       "Length3 -5.632609  \n",
       "Height  -2.327633  \n",
       "Width   -0.665883  \n",
       "\n",
       "[5 rows x 46 columns]"
      ]
     },
     "execution_count": 250,
     "metadata": {},
     "output_type": "execute_result"
    }
   ],
   "source": [
    "X_one_g_cent = X_one_g - X_one_g.mean(axis=0)\n",
    "X_one_g_cent.T"
   ]
  },
  {
   "cell_type": "code",
   "execution_count": 251,
   "id": "2dc9e88f",
   "metadata": {},
   "outputs": [
    {
     "data": {
      "text/plain": [
       "array([[37.08949275, 40.67919807, 47.65343478, 19.56620588,  6.97539221],\n",
       "       [40.67919807, 44.67184541, 52.34189372, 21.54091145,  7.69141234],\n",
       "       [47.65343478, 52.34189372, 61.59557971, 25.28581114,  9.03239414],\n",
       "       [19.56620588, 21.54091145, 25.28581114, 10.69405444,  3.77007942],\n",
       "       [ 6.97539221,  7.69141234,  9.03239414,  3.77007942,  1.39113061]])"
      ]
     },
     "execution_count": 251,
     "metadata": {},
     "output_type": "execute_result"
    }
   ],
   "source": [
    "X_one_g_cov = np.cov(X_one_g_cent.T)\n",
    "X_one_g_cov"
   ]
  },
  {
   "cell_type": "code",
   "execution_count": 252,
   "id": "3a30071c",
   "metadata": {},
   "outputs": [
    {
     "name": "stdout",
     "output_type": "stream",
     "text": [
      "eigenvalues:\n",
      "[1.54892515e+02 3.16088651e-01 1.65227838e-01 1.39053689e-02\n",
      " 5.43660023e-02]\n",
      "\n",
      "eigenvectors:\n",
      "[[-0.48882248  0.33607718 -0.46491762 -0.6400001  -0.14951988]\n",
      " [-0.53679611  0.13847911 -0.3791848   0.70485946  0.22817867]\n",
      " [-0.63010509  0.02653376  0.76759273 -0.03715325 -0.10809518]\n",
      " [-0.25942822 -0.90286862 -0.22056526 -0.05583179 -0.25643524]\n",
      " [-0.09255859 -0.22803483  0.04714718 -0.29845513  0.92094229]]\n"
     ]
    }
   ],
   "source": [
    "eigenvalues, eigenvectors = np.linalg.eig(X_one_g_cov)\n",
    "\n",
    "print('eigenvalues:\\n{}\\n'.format(eigenvalues))\n",
    "print('eigenvectors:\\n{}'.format(eigenvectors))"
   ]
  },
  {
   "cell_type": "code",
   "execution_count": 253,
   "id": "6cd69f02",
   "metadata": {},
   "outputs": [],
   "source": [
    "#Возьмем 1 вектор\n",
    "X_one_g_new = X_one_g_cent.dot(eigenvectors[:, [0]])"
   ]
  },
  {
   "cell_type": "code",
   "execution_count": 254,
   "id": "58ab7356",
   "metadata": {},
   "outputs": [
    {
     "data": {
      "text/plain": [
       "155.44210291944447"
      ]
     },
     "execution_count": 254,
     "metadata": {},
     "output_type": "execute_result"
    }
   ],
   "source": [
    "total_variance = X_one_g_cov[0, 0] + X_one_g_cov[1, 1] + X_one_g_cov[2, 2] +X_one_g_cov[3, 3] +X_one_g_cov[4, 4]\n",
    "total_variance"
   ]
  },
  {
   "cell_type": "code",
   "execution_count": 255,
   "id": "c8f79f15",
   "metadata": {},
   "outputs": [
    {
     "data": {
      "text/plain": [
       "0    0.996464\n",
       "dtype: float64"
      ]
     },
     "execution_count": 255,
     "metadata": {},
     "output_type": "execute_result"
    }
   ],
   "source": [
    "variance = X_one_g_new.var()\n",
    "\n",
    "variance/total_variance"
   ]
  },
  {
   "cell_type": "code",
   "execution_count": 256,
   "id": "a1b1393d",
   "metadata": {},
   "outputs": [],
   "source": [
    "X_one_g_new = X_one_g_new.merge(target_one_g, right_index=True, left_index=True)"
   ]
  },
  {
   "cell_type": "code",
   "execution_count": 257,
   "id": "780f3b66",
   "metadata": {},
   "outputs": [
    {
     "data": {
      "text/html": [
       "<div>\n",
       "<style scoped>\n",
       "    .dataframe tbody tr th:only-of-type {\n",
       "        vertical-align: middle;\n",
       "    }\n",
       "\n",
       "    .dataframe tbody tr th {\n",
       "        vertical-align: top;\n",
       "    }\n",
       "\n",
       "    .dataframe thead th {\n",
       "        text-align: right;\n",
       "    }\n",
       "</style>\n",
       "<table border=\"1\" class=\"dataframe\">\n",
       "  <thead>\n",
       "    <tr style=\"text-align: right;\">\n",
       "      <th></th>\n",
       "      <th>0</th>\n",
       "      <th>Weight</th>\n",
       "      <th>Species</th>\n",
       "    </tr>\n",
       "  </thead>\n",
       "  <tbody>\n",
       "    <tr>\n",
       "      <th>0</th>\n",
       "      <td>8.184496</td>\n",
       "      <td>242.0</td>\n",
       "      <td>Bream</td>\n",
       "    </tr>\n",
       "    <tr>\n",
       "      <th>1</th>\n",
       "      <td>6.278710</td>\n",
       "      <td>290.0</td>\n",
       "      <td>Bream</td>\n",
       "    </tr>\n",
       "    <tr>\n",
       "      <th>2</th>\n",
       "      <td>6.273613</td>\n",
       "      <td>340.0</td>\n",
       "      <td>Bream</td>\n",
       "    </tr>\n",
       "    <tr>\n",
       "      <th>3</th>\n",
       "      <td>2.177095</td>\n",
       "      <td>363.0</td>\n",
       "      <td>Bream</td>\n",
       "    </tr>\n",
       "    <tr>\n",
       "      <th>4</th>\n",
       "      <td>1.775674</td>\n",
       "      <td>430.0</td>\n",
       "      <td>Bream</td>\n",
       "    </tr>\n",
       "  </tbody>\n",
       "</table>\n",
       "</div>"
      ],
      "text/plain": [
       "          0  Weight Species\n",
       "0  8.184496   242.0   Bream\n",
       "1  6.278710   290.0   Bream\n",
       "2  6.273613   340.0   Bream\n",
       "3  2.177095   363.0   Bream\n",
       "4  1.775674   430.0   Bream"
      ]
     },
     "execution_count": 257,
     "metadata": {},
     "output_type": "execute_result"
    }
   ],
   "source": [
    "X_one_g_new.head()"
   ]
  },
  {
   "cell_type": "markdown",
   "id": "7f218a96",
   "metadata": {},
   "source": [
    "### Потеря только 0.35% информации"
   ]
  },
  {
   "cell_type": "code",
   "execution_count": 258,
   "id": "731de7c2",
   "metadata": {},
   "outputs": [],
   "source": [
    "target_two_g = df_two_g[['Weight', 'Species']]\n",
    "X_two_g = df_two_g.drop(['Weight', 'Species'], axis=1)"
   ]
  },
  {
   "cell_type": "code",
   "execution_count": 259,
   "id": "76fc5eb7",
   "metadata": {},
   "outputs": [
    {
     "data": {
      "text/html": [
       "<div>\n",
       "<style scoped>\n",
       "    .dataframe tbody tr th:only-of-type {\n",
       "        vertical-align: middle;\n",
       "    }\n",
       "\n",
       "    .dataframe tbody tr th {\n",
       "        vertical-align: top;\n",
       "    }\n",
       "\n",
       "    .dataframe thead th {\n",
       "        text-align: right;\n",
       "    }\n",
       "</style>\n",
       "<table border=\"1\" class=\"dataframe\">\n",
       "  <thead>\n",
       "    <tr style=\"text-align: right;\">\n",
       "      <th></th>\n",
       "      <th>35</th>\n",
       "      <th>36</th>\n",
       "      <th>37</th>\n",
       "      <th>38</th>\n",
       "      <th>39</th>\n",
       "      <th>40</th>\n",
       "      <th>41</th>\n",
       "      <th>42</th>\n",
       "      <th>43</th>\n",
       "      <th>44</th>\n",
       "      <th>...</th>\n",
       "      <th>149</th>\n",
       "      <th>150</th>\n",
       "      <th>151</th>\n",
       "      <th>152</th>\n",
       "      <th>153</th>\n",
       "      <th>154</th>\n",
       "      <th>155</th>\n",
       "      <th>156</th>\n",
       "      <th>157</th>\n",
       "      <th>158</th>\n",
       "    </tr>\n",
       "  </thead>\n",
       "  <tbody>\n",
       "    <tr>\n",
       "      <th>Length1</th>\n",
       "      <td>-9.855208</td>\n",
       "      <td>-6.255208</td>\n",
       "      <td>-5.255208</td>\n",
       "      <td>-4.555208</td>\n",
       "      <td>-4.155208</td>\n",
       "      <td>-3.755208</td>\n",
       "      <td>-3.655208</td>\n",
       "      <td>-3.355208</td>\n",
       "      <td>-2.355208</td>\n",
       "      <td>-2.255208</td>\n",
       "      <td>...</td>\n",
       "      <td>-12.055208</td>\n",
       "      <td>-11.955208</td>\n",
       "      <td>-11.455208</td>\n",
       "      <td>-11.455208</td>\n",
       "      <td>-11.355208</td>\n",
       "      <td>-11.255208</td>\n",
       "      <td>-11.055208</td>\n",
       "      <td>-10.655208</td>\n",
       "      <td>-9.555208</td>\n",
       "      <td>-8.955208</td>\n",
       "    </tr>\n",
       "    <tr>\n",
       "      <th>Length2</th>\n",
       "      <td>-10.507292</td>\n",
       "      <td>-6.407292</td>\n",
       "      <td>-5.807292</td>\n",
       "      <td>-4.807292</td>\n",
       "      <td>-4.607292</td>\n",
       "      <td>-4.107292</td>\n",
       "      <td>-3.807292</td>\n",
       "      <td>-3.607292</td>\n",
       "      <td>-2.607292</td>\n",
       "      <td>-2.607292</td>\n",
       "      <td>...</td>\n",
       "      <td>-13.407292</td>\n",
       "      <td>-13.307292</td>\n",
       "      <td>-12.807292</td>\n",
       "      <td>-12.807292</td>\n",
       "      <td>-12.607292</td>\n",
       "      <td>-12.407292</td>\n",
       "      <td>-12.207292</td>\n",
       "      <td>-11.607292</td>\n",
       "      <td>-10.307292</td>\n",
       "      <td>-9.607292</td>\n",
       "    </tr>\n",
       "    <tr>\n",
       "      <th>Length3</th>\n",
       "      <td>-10.297917</td>\n",
       "      <td>-6.197917</td>\n",
       "      <td>-5.297917</td>\n",
       "      <td>-4.297917</td>\n",
       "      <td>-4.297917</td>\n",
       "      <td>-3.697917</td>\n",
       "      <td>-3.397917</td>\n",
       "      <td>-2.797917</td>\n",
       "      <td>-1.797917</td>\n",
       "      <td>-2.197917</td>\n",
       "      <td>...</td>\n",
       "      <td>-14.097917</td>\n",
       "      <td>-13.897917</td>\n",
       "      <td>-13.397917</td>\n",
       "      <td>-13.397917</td>\n",
       "      <td>-13.297917</td>\n",
       "      <td>-13.097917</td>\n",
       "      <td>-12.997917</td>\n",
       "      <td>-12.697917</td>\n",
       "      <td>-11.297917</td>\n",
       "      <td>-10.297917</td>\n",
       "    </tr>\n",
       "    <tr>\n",
       "      <th>Height</th>\n",
       "      <td>-2.782537</td>\n",
       "      <td>-1.631437</td>\n",
       "      <td>-1.354137</td>\n",
       "      <td>-1.313137</td>\n",
       "      <td>-0.713737</td>\n",
       "      <td>-0.454537</td>\n",
       "      <td>-0.762037</td>\n",
       "      <td>-0.815137</td>\n",
       "      <td>-1.125237</td>\n",
       "      <td>-0.295837</td>\n",
       "      <td>...</td>\n",
       "      <td>-4.846537</td>\n",
       "      <td>-4.951537</td>\n",
       "      <td>-4.715837</td>\n",
       "      <td>-4.715837</td>\n",
       "      <td>-4.725337</td>\n",
       "      <td>-4.839337</td>\n",
       "      <td>-4.499737</td>\n",
       "      <td>-4.652737</td>\n",
       "      <td>-4.056937</td>\n",
       "      <td>-3.997537</td>\n",
       "    </tr>\n",
       "    <tr>\n",
       "      <th>Width</th>\n",
       "      <td>-1.799886</td>\n",
       "      <td>-1.246186</td>\n",
       "      <td>-1.163486</td>\n",
       "      <td>-0.893286</td>\n",
       "      <td>-0.493686</td>\n",
       "      <td>-0.716286</td>\n",
       "      <td>-0.672186</td>\n",
       "      <td>-0.773586</td>\n",
       "      <td>-0.313486</td>\n",
       "      <td>-0.520086</td>\n",
       "      <td>...</td>\n",
       "      <td>-2.790686</td>\n",
       "      <td>-2.782686</td>\n",
       "      <td>-2.784086</td>\n",
       "      <td>-2.901986</td>\n",
       "      <td>-2.919486</td>\n",
       "      <td>-2.674286</td>\n",
       "      <td>-2.798886</td>\n",
       "      <td>-2.812086</td>\n",
       "      <td>-2.000686</td>\n",
       "      <td>-2.188686</td>\n",
       "    </tr>\n",
       "  </tbody>\n",
       "</table>\n",
       "<p>5 rows × 96 columns</p>\n",
       "</div>"
      ],
      "text/plain": [
       "               35        36        37        38        39        40   \\\n",
       "Length1  -9.855208 -6.255208 -5.255208 -4.555208 -4.155208 -3.755208   \n",
       "Length2 -10.507292 -6.407292 -5.807292 -4.807292 -4.607292 -4.107292   \n",
       "Length3 -10.297917 -6.197917 -5.297917 -4.297917 -4.297917 -3.697917   \n",
       "Height   -2.782537 -1.631437 -1.354137 -1.313137 -0.713737 -0.454537   \n",
       "Width    -1.799886 -1.246186 -1.163486 -0.893286 -0.493686 -0.716286   \n",
       "\n",
       "              41        42        43        44   ...        149        150  \\\n",
       "Length1 -3.655208 -3.355208 -2.355208 -2.255208  ... -12.055208 -11.955208   \n",
       "Length2 -3.807292 -3.607292 -2.607292 -2.607292  ... -13.407292 -13.307292   \n",
       "Length3 -3.397917 -2.797917 -1.797917 -2.197917  ... -14.097917 -13.897917   \n",
       "Height  -0.762037 -0.815137 -1.125237 -0.295837  ...  -4.846537  -4.951537   \n",
       "Width   -0.672186 -0.773586 -0.313486 -0.520086  ...  -2.790686  -2.782686   \n",
       "\n",
       "               151        152        153        154        155        156  \\\n",
       "Length1 -11.455208 -11.455208 -11.355208 -11.255208 -11.055208 -10.655208   \n",
       "Length2 -12.807292 -12.807292 -12.607292 -12.407292 -12.207292 -11.607292   \n",
       "Length3 -13.397917 -13.397917 -13.297917 -13.097917 -12.997917 -12.697917   \n",
       "Height   -4.715837  -4.715837  -4.725337  -4.839337  -4.499737  -4.652737   \n",
       "Width    -2.784086  -2.901986  -2.919486  -2.674286  -2.798886  -2.812086   \n",
       "\n",
       "               157        158  \n",
       "Length1  -9.555208  -8.955208  \n",
       "Length2 -10.307292  -9.607292  \n",
       "Length3 -11.297917 -10.297917  \n",
       "Height   -4.056937  -3.997537  \n",
       "Width    -2.000686  -2.188686  \n",
       "\n",
       "[5 rows x 96 columns]"
      ]
     },
     "execution_count": 259,
     "metadata": {},
     "output_type": "execute_result"
    }
   ],
   "source": [
    "X_two_g_cent = X_two_g - X_two_g.mean(axis=0)\n",
    "X_two_g_cent.T"
   ]
  },
  {
   "cell_type": "code",
   "execution_count": 260,
   "id": "a075085a",
   "metadata": {},
   "outputs": [
    {
     "data": {
      "text/plain": [
       "array([[74.6376568 , 80.01264583, 83.86737939, 26.38156454, 15.90235276],\n",
       "       [80.01264583, 85.86089364, 89.97580482, 28.34999593, 17.08522863],\n",
       "       [83.86737939, 89.97580482, 94.64273246, 29.91323187, 17.92134355],\n",
       "       [26.38156454, 28.34999593, 29.91323187,  9.72067497,  5.75940163],\n",
       "       [15.90235276, 17.08522863, 17.92134355,  5.75940163,  3.53239592]])"
      ]
     },
     "execution_count": 260,
     "metadata": {},
     "output_type": "execute_result"
    }
   ],
   "source": [
    "X_two_g_cov = np.cov(X_two_g_cent.T)\n",
    "X_two_g_cov"
   ]
  },
  {
   "cell_type": "code",
   "execution_count": 261,
   "id": "8c162de5",
   "metadata": {},
   "outputs": [
    {
     "name": "stdout",
     "output_type": "stream",
     "text": [
      "eigenvalues:\n",
      "[2.67688179e+02 4.45826077e-01 1.70356111e-01 3.53602912e-02\n",
      " 5.46324362e-02]\n",
      "\n",
      "eigenvectors:\n",
      "[[-0.52771668  0.38484794 -0.16638387 -0.72101184 -0.16082756]\n",
      " [-0.56611875  0.27601903 -0.31356752  0.68004318 -0.20625164]\n",
      " [-0.59422807 -0.30837295  0.641695    0.03923586  0.37213868]\n",
      " [-0.18760634 -0.78363754 -0.2346592  -0.1079416  -0.53291627]\n",
      " [-0.11278977 -0.25792226 -0.63808651 -0.06702504  0.71351792]]\n"
     ]
    }
   ],
   "source": [
    "eigenvalues, eigenvectors = np.linalg.eig(X_two_g_cov)\n",
    "\n",
    "print('eigenvalues:\\n{}\\n'.format(eigenvalues))\n",
    "print('eigenvectors:\\n{}'.format(eigenvectors))"
   ]
  },
  {
   "cell_type": "code",
   "execution_count": 262,
   "id": "e96cfe58",
   "metadata": {},
   "outputs": [],
   "source": [
    "#Возьмем 1 вектор\n",
    "X_two_g_new = X_two_g_cent.dot(eigenvectors[:, [0]])"
   ]
  },
  {
   "cell_type": "code",
   "execution_count": 263,
   "id": "465fb5d0",
   "metadata": {},
   "outputs": [
    {
     "data": {
      "text/plain": [
       "268.39435378355154"
      ]
     },
     "execution_count": 263,
     "metadata": {},
     "output_type": "execute_result"
    }
   ],
   "source": [
    "total_variance = X_two_g_cov[0, 0] + X_two_g_cov[1, 1] + X_two_g_cov[2, 2] +X_two_g_cov[3, 3] +X_two_g_cov[4, 4]\n",
    "total_variance"
   ]
  },
  {
   "cell_type": "code",
   "execution_count": 264,
   "id": "c07f3d48",
   "metadata": {},
   "outputs": [
    {
     "data": {
      "text/plain": [
       "0    0.997369\n",
       "dtype: float64"
      ]
     },
     "execution_count": 264,
     "metadata": {},
     "output_type": "execute_result"
    }
   ],
   "source": [
    "variance = X_two_g_new.var()\n",
    "\n",
    "variance/total_variance"
   ]
  },
  {
   "cell_type": "code",
   "execution_count": 265,
   "id": "a57072e9",
   "metadata": {},
   "outputs": [],
   "source": [
    "X_two_g_new = X_two_g_new.merge(target_two_g, right_index=True, left_index=True)"
   ]
  },
  {
   "cell_type": "code",
   "execution_count": 266,
   "id": "9ce66593",
   "metadata": {
    "scrolled": false
   },
   "outputs": [
    {
     "data": {
      "text/html": [
       "<div>\n",
       "<style scoped>\n",
       "    .dataframe tbody tr th:only-of-type {\n",
       "        vertical-align: middle;\n",
       "    }\n",
       "\n",
       "    .dataframe tbody tr th {\n",
       "        vertical-align: top;\n",
       "    }\n",
       "\n",
       "    .dataframe thead th {\n",
       "        text-align: right;\n",
       "    }\n",
       "</style>\n",
       "<table border=\"1\" class=\"dataframe\">\n",
       "  <thead>\n",
       "    <tr style=\"text-align: right;\">\n",
       "      <th></th>\n",
       "      <th>0</th>\n",
       "      <th>Weight</th>\n",
       "      <th>Species</th>\n",
       "    </tr>\n",
       "  </thead>\n",
       "  <tbody>\n",
       "    <tr>\n",
       "      <th>35</th>\n",
       "      <td>17.993474</td>\n",
       "      <td>40.0</td>\n",
       "      <td>Roach</td>\n",
       "    </tr>\n",
       "    <tr>\n",
       "      <th>36</th>\n",
       "      <td>11.057867</td>\n",
       "      <td>69.0</td>\n",
       "      <td>Roach</td>\n",
       "    </tr>\n",
       "    <tr>\n",
       "      <th>37</th>\n",
       "      <td>9.594323</td>\n",
       "      <td>78.0</td>\n",
       "      <td>Roach</td>\n",
       "    </tr>\n",
       "    <tr>\n",
       "      <th>38</th>\n",
       "      <td>8.026407</td>\n",
       "      <td>87.0</td>\n",
       "      <td>Roach</td>\n",
       "    </tr>\n",
       "    <tr>\n",
       "      <th>39</th>\n",
       "      <td>7.544574</td>\n",
       "      <td>120.0</td>\n",
       "      <td>Roach</td>\n",
       "    </tr>\n",
       "  </tbody>\n",
       "</table>\n",
       "</div>"
      ],
      "text/plain": [
       "            0  Weight Species\n",
       "35  17.993474    40.0   Roach\n",
       "36  11.057867    69.0   Roach\n",
       "37   9.594323    78.0   Roach\n",
       "38   8.026407    87.0   Roach\n",
       "39   7.544574   120.0   Roach"
      ]
     },
     "execution_count": 266,
     "metadata": {},
     "output_type": "execute_result"
    }
   ],
   "source": [
    "X_two_g_new.head()"
   ]
  },
  {
   "cell_type": "markdown",
   "id": "ef9732b6",
   "metadata": {},
   "source": [
    "### Потеря только 0.26% информации\n",
    "    "
   ]
  },
  {
   "cell_type": "code",
   "execution_count": 267,
   "id": "a5fda742",
   "metadata": {},
   "outputs": [],
   "source": [
    "target_pike_g = df_Pike[['Weight', 'Species']]\n",
    "X_pike_g = df_Pike.drop(['Weight', 'Species'], axis=1)"
   ]
  },
  {
   "cell_type": "code",
   "execution_count": 268,
   "id": "9b171c32",
   "metadata": {},
   "outputs": [
    {
     "data": {
      "text/html": [
       "<div>\n",
       "<style scoped>\n",
       "    .dataframe tbody tr th:only-of-type {\n",
       "        vertical-align: middle;\n",
       "    }\n",
       "\n",
       "    .dataframe tbody tr th {\n",
       "        vertical-align: top;\n",
       "    }\n",
       "\n",
       "    .dataframe thead th {\n",
       "        text-align: right;\n",
       "    }\n",
       "</style>\n",
       "<table border=\"1\" class=\"dataframe\">\n",
       "  <thead>\n",
       "    <tr style=\"text-align: right;\">\n",
       "      <th></th>\n",
       "      <th>128</th>\n",
       "      <th>129</th>\n",
       "      <th>130</th>\n",
       "      <th>131</th>\n",
       "      <th>132</th>\n",
       "      <th>133</th>\n",
       "      <th>134</th>\n",
       "      <th>135</th>\n",
       "      <th>136</th>\n",
       "      <th>137</th>\n",
       "      <th>138</th>\n",
       "      <th>139</th>\n",
       "      <th>140</th>\n",
       "      <th>141</th>\n",
       "    </tr>\n",
       "  </thead>\n",
       "  <tbody>\n",
       "    <tr>\n",
       "      <th>Length1</th>\n",
       "      <td>-9.364286</td>\n",
       "      <td>-7.664286</td>\n",
       "      <td>-6.664286</td>\n",
       "      <td>-4.564286</td>\n",
       "      <td>-3.864286</td>\n",
       "      <td>-3.364286</td>\n",
       "      <td>0.635714</td>\n",
       "      <td>0.635714</td>\n",
       "      <td>0.735714</td>\n",
       "      <td>2.635714</td>\n",
       "      <td>3.835714</td>\n",
       "      <td>5.435714</td>\n",
       "      <td>8.935714</td>\n",
       "      <td>12.635714</td>\n",
       "    </tr>\n",
       "    <tr>\n",
       "      <th>Length2</th>\n",
       "      <td>-9.828571</td>\n",
       "      <td>-8.128571</td>\n",
       "      <td>-7.128571</td>\n",
       "      <td>-4.828571</td>\n",
       "      <td>-4.128571</td>\n",
       "      <td>-3.628571</td>\n",
       "      <td>0.371429</td>\n",
       "      <td>0.371429</td>\n",
       "      <td>0.871429</td>\n",
       "      <td>2.871429</td>\n",
       "      <td>3.871429</td>\n",
       "      <td>5.871429</td>\n",
       "      <td>9.571429</td>\n",
       "      <td>13.871429</td>\n",
       "    </tr>\n",
       "    <tr>\n",
       "      <th>Length3</th>\n",
       "      <td>-10.357143</td>\n",
       "      <td>-7.357143</td>\n",
       "      <td>-6.357143</td>\n",
       "      <td>-5.357143</td>\n",
       "      <td>-4.657143</td>\n",
       "      <td>-4.157143</td>\n",
       "      <td>0.342857</td>\n",
       "      <td>0.342857</td>\n",
       "      <td>0.642857</td>\n",
       "      <td>2.842857</td>\n",
       "      <td>3.542857</td>\n",
       "      <td>6.042857</td>\n",
       "      <td>9.942857</td>\n",
       "      <td>14.542857</td>\n",
       "    </tr>\n",
       "    <tr>\n",
       "      <th>Height</th>\n",
       "      <td>-1.655007</td>\n",
       "      <td>-1.515207</td>\n",
       "      <td>-1.286607</td>\n",
       "      <td>-0.934607</td>\n",
       "      <td>0.066993</td>\n",
       "      <td>-0.827007</td>\n",
       "      <td>0.056993</td>\n",
       "      <td>-0.398007</td>\n",
       "      <td>0.562993</td>\n",
       "      <td>-0.263007</td>\n",
       "      <td>0.568993</td>\n",
       "      <td>0.456993</td>\n",
       "      <td>1.703193</td>\n",
       "      <td>3.463293</td>\n",
       "    </tr>\n",
       "    <tr>\n",
       "      <th>Width</th>\n",
       "      <td>-1.388721</td>\n",
       "      <td>-0.606321</td>\n",
       "      <td>-0.379921</td>\n",
       "      <td>-0.744521</td>\n",
       "      <td>-0.187821</td>\n",
       "      <td>-0.787321</td>\n",
       "      <td>-0.441821</td>\n",
       "      <td>-0.305321</td>\n",
       "      <td>0.365279</td>\n",
       "      <td>0.131679</td>\n",
       "      <td>0.105679</td>\n",
       "      <td>0.611679</td>\n",
       "      <td>1.406879</td>\n",
       "      <td>2.220579</td>\n",
       "    </tr>\n",
       "  </tbody>\n",
       "</table>\n",
       "</div>"
      ],
      "text/plain": [
       "               128       129       130       131       132       133  \\\n",
       "Length1  -9.364286 -7.664286 -6.664286 -4.564286 -3.864286 -3.364286   \n",
       "Length2  -9.828571 -8.128571 -7.128571 -4.828571 -4.128571 -3.628571   \n",
       "Length3 -10.357143 -7.357143 -6.357143 -5.357143 -4.657143 -4.157143   \n",
       "Height   -1.655007 -1.515207 -1.286607 -0.934607  0.066993 -0.827007   \n",
       "Width    -1.388721 -0.606321 -0.379921 -0.744521 -0.187821 -0.787321   \n",
       "\n",
       "              134       135       136       137       138       139       140  \\\n",
       "Length1  0.635714  0.635714  0.735714  2.635714  3.835714  5.435714  8.935714   \n",
       "Length2  0.371429  0.371429  0.871429  2.871429  3.871429  5.871429  9.571429   \n",
       "Length3  0.342857  0.342857  0.642857  2.842857  3.542857  6.042857  9.942857   \n",
       "Height   0.056993 -0.398007  0.562993 -0.263007  0.568993  0.456993  1.703193   \n",
       "Width   -0.441821 -0.305321  0.365279  0.131679  0.105679  0.611679  1.406879   \n",
       "\n",
       "               141  \n",
       "Length1  12.635714  \n",
       "Length2  13.871429  \n",
       "Length3  14.542857  \n",
       "Height    3.463293  \n",
       "Width     2.220579  "
      ]
     },
     "execution_count": 268,
     "metadata": {},
     "output_type": "execute_result"
    }
   ],
   "source": [
    "X_pike_g_cent = X_pike_g - X_pike_g.mean(axis=0)\n",
    "X_pike_g_cent.T"
   ]
  },
  {
   "cell_type": "code",
   "execution_count": 269,
   "id": "1588fe6d",
   "metadata": {},
   "outputs": [
    {
     "data": {
      "text/plain": [
       "array([[40.76862637, 43.71494505, 44.58604396,  8.12505258,  5.49671159],\n",
       "       [43.71494505, 46.90681319, 47.85901099,  8.75608824,  5.93854857],\n",
       "       [44.58604396, 47.85901099, 49.04879121,  8.93663033,  6.16162022],\n",
       "       [ 8.12505258,  8.75608824,  8.93663033,  1.86367915,  1.21030367],\n",
       "       [ 5.49671159,  5.93854857,  6.16162022,  1.21030367,  0.87575134]])"
      ]
     },
     "execution_count": 269,
     "metadata": {},
     "output_type": "execute_result"
    }
   ],
   "source": [
    "X_pike_g_cov = np.cov(X_pike_g_cent.T)\n",
    "X_pike_g_cov"
   ]
  },
  {
   "cell_type": "code",
   "execution_count": 270,
   "id": "c1fd4ff0",
   "metadata": {},
   "outputs": [
    {
     "name": "stdout",
     "output_type": "stream",
     "text": [
      "eigenvalues:\n",
      "[1.38945805e+02 3.11358599e-01 1.80108301e-01 7.59609782e-03\n",
      " 1.87931331e-02]\n",
      "\n",
      "eigenvectors:\n",
      "[[-0.54132204  0.31604524 -0.31963275 -0.70655915 -0.07546476]\n",
      " [-0.58085422  0.13594527 -0.29118426  0.58821661  0.46188766]\n",
      " [-0.59357104 -0.21948056  0.65092893  0.1054583  -0.40579772]\n",
      " [-0.10853594 -0.72832876 -0.57404321  0.05485127 -0.35386848]\n",
      " [-0.07397435 -0.55045417  0.24456605 -0.37502703  0.70076399]]\n"
     ]
    }
   ],
   "source": [
    "eigenvalues, eigenvectors = np.linalg.eig(X_pike_g_cov)\n",
    "\n",
    "print('eigenvalues:\\n{}\\n'.format(eigenvalues))\n",
    "print('eigenvectors:\\n{}'.format(eigenvectors))"
   ]
  },
  {
   "cell_type": "code",
   "execution_count": 271,
   "id": "287d2b52",
   "metadata": {},
   "outputs": [],
   "source": [
    "#Возьмем 1 вектор\n",
    "X_pike_g_new = X_pike_g_cent.dot(eigenvectors[:, [0]])"
   ]
  },
  {
   "cell_type": "code",
   "execution_count": 272,
   "id": "bd68e745",
   "metadata": {},
   "outputs": [
    {
     "data": {
      "text/plain": [
       "139.46366125483522"
      ]
     },
     "execution_count": 272,
     "metadata": {},
     "output_type": "execute_result"
    }
   ],
   "source": [
    "total_variance = X_pike_g_cov[0, 0] + X_pike_g_cov[1, 1] + X_pike_g_cov[2, 2] +X_pike_g_cov[3, 3] +X_pike_g_cov[4, 4]\n",
    "total_variance"
   ]
  },
  {
   "cell_type": "code",
   "execution_count": 273,
   "id": "3da1e564",
   "metadata": {},
   "outputs": [
    {
     "data": {
      "text/plain": [
       "0    0.996287\n",
       "dtype: float64"
      ]
     },
     "execution_count": 273,
     "metadata": {},
     "output_type": "execute_result"
    }
   ],
   "source": [
    "variance = X_pike_g_new.var()\n",
    "\n",
    "variance/total_variance"
   ]
  },
  {
   "cell_type": "code",
   "execution_count": 274,
   "id": "760539b7",
   "metadata": {},
   "outputs": [],
   "source": [
    "X_pike_g_new = X_pike_g_new.merge(target_pike_g, right_index=True, left_index=True)"
   ]
  },
  {
   "cell_type": "code",
   "execution_count": 275,
   "id": "cd108fb7",
   "metadata": {
    "scrolled": true
   },
   "outputs": [
    {
     "data": {
      "text/html": [
       "<div>\n",
       "<style scoped>\n",
       "    .dataframe tbody tr th:only-of-type {\n",
       "        vertical-align: middle;\n",
       "    }\n",
       "\n",
       "    .dataframe tbody tr th {\n",
       "        vertical-align: top;\n",
       "    }\n",
       "\n",
       "    .dataframe thead th {\n",
       "        text-align: right;\n",
       "    }\n",
       "</style>\n",
       "<table border=\"1\" class=\"dataframe\">\n",
       "  <thead>\n",
       "    <tr style=\"text-align: right;\">\n",
       "      <th></th>\n",
       "      <th>0</th>\n",
       "      <th>Weight</th>\n",
       "      <th>Species</th>\n",
       "    </tr>\n",
       "  </thead>\n",
       "  <tbody>\n",
       "    <tr>\n",
       "      <th>128</th>\n",
       "      <td>17.208119</td>\n",
       "      <td>200.0</td>\n",
       "      <td>Pike</td>\n",
       "    </tr>\n",
       "    <tr>\n",
       "      <th>129</th>\n",
       "      <td>13.446655</td>\n",
       "      <td>300.0</td>\n",
       "      <td>Pike</td>\n",
       "    </tr>\n",
       "    <tr>\n",
       "      <th>130</th>\n",
       "      <td>11.689349</td>\n",
       "      <td>300.0</td>\n",
       "      <td>Pike</td>\n",
       "    </tr>\n",
       "    <tr>\n",
       "      <th>131</th>\n",
       "      <td>8.611803</td>\n",
       "      <td>300.0</td>\n",
       "      <td>Pike</td>\n",
       "    </tr>\n",
       "    <tr>\n",
       "      <th>132</th>\n",
       "      <td>7.260889</td>\n",
       "      <td>430.0</td>\n",
       "      <td>Pike</td>\n",
       "    </tr>\n",
       "  </tbody>\n",
       "</table>\n",
       "</div>"
      ],
      "text/plain": [
       "             0  Weight Species\n",
       "128  17.208119   200.0    Pike\n",
       "129  13.446655   300.0    Pike\n",
       "130  11.689349   300.0    Pike\n",
       "131   8.611803   300.0    Pike\n",
       "132   7.260889   430.0    Pike"
      ]
     },
     "execution_count": 275,
     "metadata": {},
     "output_type": "execute_result"
    }
   ],
   "source": [
    "X_pike_g_new.head()"
   ]
  },
  {
   "cell_type": "markdown",
   "id": "4a94a313",
   "metadata": {},
   "source": [
    "### Потеря информации 0.37%"
   ]
  },
  {
   "cell_type": "markdown",
   "id": "c28d7901",
   "metadata": {},
   "source": [
    "## Объеденим все в один датафрейм и вычислим линейную регрессию"
   ]
  },
  {
   "cell_type": "code",
   "execution_count": 276,
   "id": "4d7374f8",
   "metadata": {},
   "outputs": [
    {
     "data": {
      "text/html": [
       "<div>\n",
       "<style scoped>\n",
       "    .dataframe tbody tr th:only-of-type {\n",
       "        vertical-align: middle;\n",
       "    }\n",
       "\n",
       "    .dataframe tbody tr th {\n",
       "        vertical-align: top;\n",
       "    }\n",
       "\n",
       "    .dataframe thead th {\n",
       "        text-align: right;\n",
       "    }\n",
       "</style>\n",
       "<table border=\"1\" class=\"dataframe\">\n",
       "  <thead>\n",
       "    <tr style=\"text-align: right;\">\n",
       "      <th></th>\n",
       "      <th>0</th>\n",
       "      <th>Weight</th>\n",
       "      <th>Species</th>\n",
       "    </tr>\n",
       "  </thead>\n",
       "  <tbody>\n",
       "    <tr>\n",
       "      <th>0</th>\n",
       "      <td>8.184496</td>\n",
       "      <td>242.0</td>\n",
       "      <td>Bream</td>\n",
       "    </tr>\n",
       "    <tr>\n",
       "      <th>1</th>\n",
       "      <td>6.278710</td>\n",
       "      <td>290.0</td>\n",
       "      <td>Bream</td>\n",
       "    </tr>\n",
       "    <tr>\n",
       "      <th>2</th>\n",
       "      <td>6.273613</td>\n",
       "      <td>340.0</td>\n",
       "      <td>Bream</td>\n",
       "    </tr>\n",
       "    <tr>\n",
       "      <th>3</th>\n",
       "      <td>2.177095</td>\n",
       "      <td>363.0</td>\n",
       "      <td>Bream</td>\n",
       "    </tr>\n",
       "    <tr>\n",
       "      <th>4</th>\n",
       "      <td>1.775674</td>\n",
       "      <td>430.0</td>\n",
       "      <td>Bream</td>\n",
       "    </tr>\n",
       "  </tbody>\n",
       "</table>\n",
       "</div>"
      ],
      "text/plain": [
       "          0  Weight Species\n",
       "0  8.184496   242.0   Bream\n",
       "1  6.278710   290.0   Bream\n",
       "2  6.273613   340.0   Bream\n",
       "3  2.177095   363.0   Bream\n",
       "4  1.775674   430.0   Bream"
      ]
     },
     "execution_count": 276,
     "metadata": {},
     "output_type": "execute_result"
    }
   ],
   "source": [
    "df_final = pd.concat([X_one_g_new, X_two_g_new, X_pike_g_new])\n",
    "df_final.head()"
   ]
  },
  {
   "cell_type": "code",
   "execution_count": 277,
   "id": "ff082c91",
   "metadata": {},
   "outputs": [
    {
     "data": {
      "text/html": [
       "<div>\n",
       "<style scoped>\n",
       "    .dataframe tbody tr th:only-of-type {\n",
       "        vertical-align: middle;\n",
       "    }\n",
       "\n",
       "    .dataframe tbody tr th {\n",
       "        vertical-align: top;\n",
       "    }\n",
       "\n",
       "    .dataframe thead th {\n",
       "        text-align: right;\n",
       "    }\n",
       "</style>\n",
       "<table border=\"1\" class=\"dataframe\">\n",
       "  <thead>\n",
       "    <tr style=\"text-align: right;\">\n",
       "      <th></th>\n",
       "      <th>0</th>\n",
       "    </tr>\n",
       "  </thead>\n",
       "  <tbody>\n",
       "    <tr>\n",
       "      <th>count</th>\n",
       "      <td>1.560000e+02</td>\n",
       "    </tr>\n",
       "    <tr>\n",
       "      <th>mean</th>\n",
       "      <td>2.277381e-15</td>\n",
       "    </tr>\n",
       "    <tr>\n",
       "      <th>std</th>\n",
       "      <td>1.485561e+01</td>\n",
       "    </tr>\n",
       "    <tr>\n",
       "      <th>min</th>\n",
       "      <td>-3.404548e+01</td>\n",
       "    </tr>\n",
       "    <tr>\n",
       "      <th>25%</th>\n",
       "      <td>-8.257225e+00</td>\n",
       "    </tr>\n",
       "    <tr>\n",
       "      <th>50%</th>\n",
       "      <td>5.027008e-01</td>\n",
       "    </tr>\n",
       "    <tr>\n",
       "      <th>75%</th>\n",
       "      <td>8.900981e+00</td>\n",
       "    </tr>\n",
       "    <tr>\n",
       "      <th>max</th>\n",
       "      <td>2.894612e+01</td>\n",
       "    </tr>\n",
       "  </tbody>\n",
       "</table>\n",
       "</div>"
      ],
      "text/plain": [
       "                  0\n",
       "count  1.560000e+02\n",
       "mean   2.277381e-15\n",
       "std    1.485561e+01\n",
       "min   -3.404548e+01\n",
       "25%   -8.257225e+00\n",
       "50%    5.027008e-01\n",
       "75%    8.900981e+00\n",
       "max    2.894612e+01"
      ]
     },
     "execution_count": 277,
     "metadata": {},
     "output_type": "execute_result"
    }
   ],
   "source": [
    "df_final_X = df_final.drop(['Weight', 'Species'], axis=1)\n",
    "df_final_X.describe()"
   ]
  },
  {
   "cell_type": "code",
   "execution_count": 278,
   "id": "4f0b6d92",
   "metadata": {},
   "outputs": [
    {
     "data": {
      "text/html": [
       "<div>\n",
       "<style scoped>\n",
       "    .dataframe tbody tr th:only-of-type {\n",
       "        vertical-align: middle;\n",
       "    }\n",
       "\n",
       "    .dataframe tbody tr th {\n",
       "        vertical-align: top;\n",
       "    }\n",
       "\n",
       "    .dataframe thead th {\n",
       "        text-align: right;\n",
       "    }\n",
       "</style>\n",
       "<table border=\"1\" class=\"dataframe\">\n",
       "  <thead>\n",
       "    <tr style=\"text-align: right;\">\n",
       "      <th></th>\n",
       "      <th>Weight</th>\n",
       "    </tr>\n",
       "  </thead>\n",
       "  <tbody>\n",
       "    <tr>\n",
       "      <th>0</th>\n",
       "      <td>242.0</td>\n",
       "    </tr>\n",
       "    <tr>\n",
       "      <th>1</th>\n",
       "      <td>290.0</td>\n",
       "    </tr>\n",
       "    <tr>\n",
       "      <th>2</th>\n",
       "      <td>340.0</td>\n",
       "    </tr>\n",
       "    <tr>\n",
       "      <th>3</th>\n",
       "      <td>363.0</td>\n",
       "    </tr>\n",
       "    <tr>\n",
       "      <th>4</th>\n",
       "      <td>430.0</td>\n",
       "    </tr>\n",
       "  </tbody>\n",
       "</table>\n",
       "</div>"
      ],
      "text/plain": [
       "   Weight\n",
       "0   242.0\n",
       "1   290.0\n",
       "2   340.0\n",
       "3   363.0\n",
       "4   430.0"
      ]
     },
     "execution_count": 278,
     "metadata": {},
     "output_type": "execute_result"
    }
   ],
   "source": [
    "df_final_Y = df_final.drop([0, 'Species'], axis=1)\n",
    "df_final_Y.head()"
   ]
  },
  {
   "cell_type": "code",
   "execution_count": 279,
   "id": "89679638",
   "metadata": {},
   "outputs": [
    {
     "data": {
      "text/plain": [
       "(2.2773805633336546e-15, 219.27458741497182)"
      ]
     },
     "execution_count": 279,
     "metadata": {},
     "output_type": "execute_result"
    }
   ],
   "source": [
    "X_mean = df_final_X.mean()[0]\n",
    "X_2 = (df_final_X ** 2).mean()[0]\n",
    "X_mean, X_2"
   ]
  },
  {
   "cell_type": "code",
   "execution_count": 280,
   "id": "38a07b20",
   "metadata": {},
   "outputs": [
    {
     "data": {
      "text/plain": [
       "376.1628205128205"
      ]
     },
     "execution_count": 280,
     "metadata": {},
     "output_type": "execute_result"
    }
   ],
   "source": [
    "Y_mean = df_final_Y.mean()[0]\n",
    "Y_mean"
   ]
  },
  {
   "cell_type": "code",
   "execution_count": 281,
   "id": "d239afc3",
   "metadata": {
    "scrolled": true
   },
   "outputs": [
    {
     "data": {
      "text/plain": [
       "-19.017010610971354"
      ]
     },
     "execution_count": 281,
     "metadata": {},
     "output_type": "execute_result"
    }
   ],
   "source": [
    "b1 = (((df_final_X.to_numpy() * df_final_Y.to_numpy()).mean()) - (X_mean * Y_mean)) / (X_2 - (X_mean ** 2))\n",
    "b1"
   ]
  },
  {
   "cell_type": "code",
   "execution_count": 282,
   "id": "c5aecbf2",
   "metadata": {},
   "outputs": [
    {
     "data": {
      "text/plain": [
       "376.16282051282053"
      ]
     },
     "execution_count": 282,
     "metadata": {},
     "output_type": "execute_result"
    }
   ],
   "source": [
    "b0 = Y_mean - b1 * X_mean\n",
    "b0"
   ]
  },
  {
   "cell_type": "code",
   "execution_count": 283,
   "id": "172fadd2",
   "metadata": {},
   "outputs": [
    {
     "data": {
      "image/png": "[encoded data removed]",
      "text/plain": [
       "<Figure size 360x432 with 1 Axes>"
      ]
     },
     "metadata": {
      "needs_background": "light"
     },
     "output_type": "display_data"
    }
   ],
   "source": [
    "ox = df_final_X\n",
    "oy = b0 + b1 * df_final_X.to_numpy().T[0]\n",
    "\n",
    "plt.scatter(df_final_X, df_final_Y)\n",
    "plt.plot(ox, oy, color='red')\n",
    "plt.show()"
   ]
  },
  {
   "cell_type": "code",
   "execution_count": null,
   "id": "5f2dc15a",
   "metadata": {},
   "outputs": [],
   "source": []
  }
 ],
 "metadata": {
  "kernelspec": {
   "display_name": "Python 3",
   "language": "python",
   "name": "python3"
  },
  "language_info": {
   "codemirror_mode": {
    "name": "ipython",
    "version": 3
   },
   "file_extension": ".py",
   "mimetype": "text/x-python",
   "name": "python",
   "nbconvert_exporter": "python",
   "pygments_lexer": "ipython3",
   "version": "3.8.8"
  },
  "widgets": {
   "application/vnd.jupyter.widget-state+json": {
    "state": {},
    "version_major": 2,
    "version_minor": 0
   }
  }
 },
 "nbformat": 4,
 "nbformat_minor": 5
}
